{
 "cells": [
  {
   "cell_type": "markdown",
   "metadata": {},
   "source": [
    "<img src=\"https://raw.githubusercontent.com/FUlyankin/r_probability/master/end_seminars/sem_2/yYGiBqtirSM.jpg\" height=\"300\" width=\"300\"> \n",
    "\n",
    "# <center> R для тервера и матстата. <br>  <br> Домашка номер раз! </center>\n",
    "\n",
    "Данный ноутбук является домашкой по курсу «R для теории вероятностей и математической статистики» (РАНХиГС, 2020). Автор ноутбука - [вот этот парень по имени Филипп.](https://vk.com/ppilif) Если у вас для него есть деньги, слава или женщины, он от этого всего не откажется. Ноутбук распространяется на условиях лицензии [Creative Commons Attribution-Share Alike 4.0.](https://creativecommons.org/licenses/by-sa/4.0/) При использовании обязательно упоминание автора курса и аффилиации. При наличии технической возможности необходимо также указать активную гиперссылку на [страницу курса.](https://fulyankin.github.io/r_probability/) На ней можно найти другие материалы. Фрагменты кода, включенные в этот notebook, публикуются как [общественное достояние.](https://creativecommons.org/publicdomain/zero/1.0/)\n",
    "\n",
    "----------------------\n"
   ]
  },
  {
   "cell_type": "markdown",
   "metadata": {},
   "source": [
    "__Краткий брифинг:__\n",
    "\n",
    "\n",
    "* __Дедлайн:__ __10.05.20__\n",
    "* Первая домашка затрагивает то, что мы смотрели на первых двух парах.\n",
    "* Тетрадка делится на две части: __рыбёшки (65 баллов) и кит (35 баллов).__\n",
    "* Часть задач нужно решить не только с помощью симуляций, но и вручную.\n",
    "* Ваша команда пытается решить как можно больше задач и присылает их мне.\n",
    "* Если очень хочется, можем устроить после всех дедлайнов серию из пар с разбором домашек. \n",
    "* Свои решения постараюсь выложить после дедлайна.\n",
    "* __WARNING:__ [на страничке курса](https://github.com/FUlyankin/r_probability) есть решение домашек прошлого года. Ими можно пользоваться. Там много полезного и интересного! А ещё не стесняйтесь задавать вопросы :) \n",
    "\n",
    "---------------------------\n",
    "\n",
    "* __Как оформлять домашки:__ \n",
    "    1. Компьютерные домашки оформляем либо в связке R + LaTeX, либо в юпитерских тетрадках (если хочется новых технологий), либо в связке R + Markdown. Все шаблоны для этого есть в репозитории. Пожалуйста не нужно присылать мне просто тупой код с выводами в виде комментариев, написанных через решёточки. Я от этого могу сойти с ума. \n",
    "    2. Ручные решение можно оформлять двумя способами: либо вбивать их в файл вместе с кодом. Благо в Markdown, юпитере и других местах поддерживаются теховские формулу. Либо аккуратно оформляйте их на бумаге и присылайте свёрстанную pdf-ку. Не надо кидать мне фотки по одной. Я от этого тоже сойду с ума. Вариант с вбиванием в основной файл - предпочтительнее. \n",
    "    \n",
    "* На странице курса висит [видео-инструкция по оформлению.](https://yadi.sk/i/Pxp_pByP6Em9-A)\n",
    "\n",
    "---------------------------\n",
    "\n",
    "Ближе к делу. С чего начинается любой скрипт? Правильно! С подгрузки пакетов :) "
   ]
  },
  {
   "cell_type": "code",
   "execution_count": 2,
   "metadata": {},
   "outputs": [
    {
     "name": "stderr",
     "output_type": "stream",
     "text": [
      "Warning message:\n",
      "\"package 'ggplot2' was built under R version 3.6.3\"Warning message:\n",
      "\"package 'reshape2' was built under R version 3.6.3\"Warning message:\n",
      "\"package 'repr' was built under R version 3.6.3\""
     ]
    }
   ],
   "source": [
    "library(\"ggplot2\")  # Пакет для красивых графиков \n",
    "\n",
    "library(\"reshape2\")\n",
    "\n",
    "library(\"grid\")     # Пакет для субплотов\n",
    "\n",
    "# Отрегулируем размер картинок, которые будут выдаваться в нашей тетрадке\n",
    "\n",
    "library('repr')\n",
    "options(repr.plot.width=4, repr.plot.height=3)\n",
    "\n",
    "# Внимание! Если вы делаете дз в Rstudio, то вам не нужны пакеты grid, repr и т.п.\n",
    "# Вам нужен только пакет ggplot2! "
   ]
  },
  {
   "cell_type": "markdown",
   "metadata": {},
   "source": [
    "### [2]  Задачка 1\n",
    "\n",
    "Давайте уточним [правило трёх сигм.](https://ru.wikipedia.org/wiki/Среднеквадратическое_отклонение#Правило_трёх_сигм)\n",
    "\n",
    "__Утверждение:__ $99.7\\%$ вероятностной массы случайной величины $X \\sim N(\\mu,\\sigma^2)$ лежит в интервале $\\mu \\pm c \\cdot \\sigma$. Чему равно значение константы $c$? А если речь про 80\\%? "
   ]
  },
  {
   "cell_type": "code",
   "execution_count": 2,
   "metadata": {},
   "outputs": [],
   "source": [
    "### ╰( ͡° ͜ʖ ͡° )つ▬▬ι═══════  немного кода здесь"
   ]
  },
  {
   "cell_type": "markdown",
   "metadata": {},
   "source": [
    "### [3] Задачка 2\n",
    "\n",
    "Давайте попробуем проверить несколько свойств математических ожиданий и дисперсий, которые вы доказали на лекциях по теории вероятностей в прошлом семестре. Выберите конкретные случайные величины (любые) и проверьте для них утверждения, перечисленные ниже. \n",
    "\n",
    "__[а]__ Верно ли, что $E(X + Y) = E(X) + E(Y)$? \n",
    "\n",
    "__[б]__ Верно ли, что $E(X \\cdot Y) = E(X) \\cdot E(Y)$?\n",
    "\n",
    "__[в]__ Верно ли, что $Var(X + Y) = Var(X) + Var(Y) + 2 \\cdot Cov(X,Y)$? \n",
    "\n",
    "__[г]__ Верно ли, что $Var(X \\cdot Y) = Var(X) \\cdot Var(Y)$? \n",
    "\n",
    "__[д]__ Верно ли, что если $Cov(X, Y) = 0$, то две случайные величины независимы? Удастся ли проверить это с помощью генераций? "
   ]
  },
  {
   "cell_type": "code",
   "execution_count": 12,
   "metadata": {},
   "outputs": [],
   "source": [
    "# Случайные величины:\n",
    "n_obs <- 10^6\n",
    "\n",
    "x <- rnorm(n_obs)\n",
    "y <- rexp(n_obs, 3)-x"
   ]
  },
  {
   "cell_type": "markdown",
   "metadata": {},
   "source": [
    "__[а]__ Верно ли, что $E(X + Y) = E(X) + E(Y)$?"
   ]
  },
  {
   "cell_type": "code",
   "execution_count": 13,
   "metadata": {},
   "outputs": [
    {
     "data": {
      "text/html": [
       "0.333151619818462"
      ],
      "text/latex": [
       "0.333151619818462"
      ],
      "text/markdown": [
       "0.333151619818462"
      ],
      "text/plain": [
       "[1] 0.3331516"
      ]
     },
     "metadata": {},
     "output_type": "display_data"
    },
    {
     "data": {
      "text/html": [
       "0.333151619818462"
      ],
      "text/latex": [
       "0.333151619818462"
      ],
      "text/markdown": [
       "0.333151619818462"
      ],
      "text/plain": [
       "[1] 0.3331516"
      ]
     },
     "metadata": {},
     "output_type": "display_data"
    },
    {
     "data": {
      "text/html": [
       "TRUE"
      ],
      "text/latex": [
       "TRUE"
      ],
      "text/markdown": [
       "TRUE"
      ],
      "text/plain": [
       "[1] TRUE"
      ]
     },
     "metadata": {},
     "output_type": "display_data"
    }
   ],
   "source": [
    "mean(x+y)\n",
    "mean(x)+mean(y)\n",
    "\n",
    "mean(x+y) == mean(x)+mean(y)"
   ]
  },
  {
   "cell_type": "code",
   "execution_count": null,
   "metadata": {},
   "outputs": [],
   "source": [
    "# Верно"
   ]
  },
  {
   "cell_type": "markdown",
   "metadata": {},
   "source": [
    "__[б]__ Верно ли, что $E(X \\cdot Y) = E(X) \\cdot E(Y)$?"
   ]
  },
  {
   "cell_type": "code",
   "execution_count": 14,
   "metadata": {},
   "outputs": [
    {
     "data": {
      "text/html": [
       "-1.00051226175776"
      ],
      "text/latex": [
       "-1.00051226175776"
      ],
      "text/markdown": [
       "-1.00051226175776"
      ],
      "text/plain": [
       "[1] -1.000512"
      ]
     },
     "metadata": {},
     "output_type": "display_data"
    },
    {
     "data": {
      "text/html": [
       "2.32065479048004e-05"
      ],
      "text/latex": [
       "2.32065479048004e-05"
      ],
      "text/markdown": [
       "2.32065479048004e-05"
      ],
      "text/plain": [
       "[1] 2.320655e-05"
      ]
     },
     "metadata": {},
     "output_type": "display_data"
    },
    {
     "data": {
      "text/html": [
       "FALSE"
      ],
      "text/latex": [
       "FALSE"
      ],
      "text/markdown": [
       "FALSE"
      ],
      "text/plain": [
       "[1] FALSE"
      ]
     },
     "metadata": {},
     "output_type": "display_data"
    }
   ],
   "source": [
    "mean(x*y)\n",
    "mean(x)*mean(y)\n",
    "\n",
    "mean(x*y) == mean(x)*mean(y)"
   ]
  },
  {
   "cell_type": "code",
   "execution_count": 15,
   "metadata": {},
   "outputs": [
    {
     "data": {
      "text/html": [
       "-1.00051226175776"
      ],
      "text/latex": [
       "-1.00051226175776"
      ],
      "text/markdown": [
       "-1.00051226175776"
      ],
      "text/plain": [
       "[1] -1.000512"
      ]
     },
     "metadata": {},
     "output_type": "display_data"
    },
    {
     "data": {
      "text/html": [
       "-1.00051326229423"
      ],
      "text/latex": [
       "-1.00051326229423"
      ],
      "text/markdown": [
       "-1.00051326229423"
      ],
      "text/plain": [
       "[1] -1.000513"
      ]
     },
     "metadata": {},
     "output_type": "display_data"
    }
   ],
   "source": [
    "# Неверно; не хватает ковариации.\n",
    "\n",
    "mean(x*y)\n",
    "mean(x)*mean(y)+cov(x,y)\n"
   ]
  },
  {
   "cell_type": "markdown",
   "metadata": {},
   "source": [
    "__[в]__ Верно ли, что $Var(X + Y) = Var(X) + Var(Y) + 2 \\cdot Cov(X,Y)$? "
   ]
  },
  {
   "cell_type": "code",
   "execution_count": 19,
   "metadata": {},
   "outputs": [
    {
     "data": {
      "text/html": [
       "0.111151282606941"
      ],
      "text/latex": [
       "0.111151282606941"
      ],
      "text/markdown": [
       "0.111151282606941"
      ],
      "text/plain": [
       "[1] 0.1111513"
      ]
     },
     "metadata": {},
     "output_type": "display_data"
    },
    {
     "data": {
      "text/html": [
       "0.111151282606941"
      ],
      "text/latex": [
       "0.111151282606941"
      ],
      "text/markdown": [
       "0.111151282606941"
      ],
      "text/plain": [
       "[1] 0.1111513"
      ]
     },
     "metadata": {},
     "output_type": "display_data"
    }
   ],
   "source": [
    "var(x+y)\n",
    "var(x)+var(y)+2*cov(x,y)\n"
   ]
  },
  {
   "cell_type": "code",
   "execution_count": null,
   "metadata": {},
   "outputs": [],
   "source": [
    "# Верно"
   ]
  },
  {
   "cell_type": "markdown",
   "metadata": {},
   "source": [
    "__[г]__ Верно ли, что $Var(X \\cdot Y) = Var(X) \\cdot Var(Y)$? "
   ]
  },
  {
   "cell_type": "code",
   "execution_count": 23,
   "metadata": {},
   "outputs": [
    {
     "data": {
      "text/html": [
       "2.22039817990705"
      ],
      "text/latex": [
       "2.22039817990705"
      ],
      "text/markdown": [
       "2.22039817990705"
      ],
      "text/plain": [
       "[1] 2.220398"
      ]
     },
     "metadata": {},
     "output_type": "display_data"
    },
    {
     "data": {
      "text/html": [
       "1.11223149614991"
      ],
      "text/latex": [
       "1.11223149614991"
      ],
      "text/markdown": [
       "1.11223149614991"
      ],
      "text/plain": [
       "[1] 1.112231"
      ]
     },
     "metadata": {},
     "output_type": "display_data"
    }
   ],
   "source": [
    "var(x*y)\n",
    "var(x)*var(y)"
   ]
  },
  {
   "cell_type": "code",
   "execution_count": 33,
   "metadata": {},
   "outputs": [
    {
     "data": {
      "text/html": [
       "2.22039595565265"
      ],
      "text/latex": [
       "2.22039595565265"
      ],
      "text/markdown": [
       "2.22039595565265"
      ],
      "text/plain": [
       "[1] 2.220396"
      ]
     },
     "metadata": {},
     "output_type": "display_data"
    }
   ],
   "source": [
    "# Неверно\n",
    "\n",
    "mean(x^2)*mean(y^2) + cov(x^2,y^2) - (mean(x)*mean(y)+cov(x,y))^2\n"
   ]
  },
  {
   "cell_type": "markdown",
   "metadata": {},
   "source": [
    "__[д]__ Верно ли, что если $Cov(X, Y) = 0$, то две случайные величины независимы? Удастся ли проверить это с помощью генераций? "
   ]
  },
  {
   "cell_type": "code",
   "execution_count": 37,
   "metadata": {},
   "outputs": [
    {
     "data": {
      "text/html": [
       "0.00091548121820528"
      ],
      "text/latex": [
       "0.00091548121820528"
      ],
      "text/markdown": [
       "0.00091548121820528"
      ],
      "text/plain": [
       "[1] 0.0009154812"
      ]
     },
     "metadata": {},
     "output_type": "display_data"
    }
   ],
   "source": [
    "# Неверно\n",
    "\n",
    "x = rnorm(n_obs)\n",
    "y = abs(x)  # x и y зависимы  \n",
    "cov(x,y)   \n",
    "\n",
    "# ковариация близка к 0"
   ]
  },
  {
   "cell_type": "markdown",
   "metadata": {},
   "source": [
    "### [10]  Задачка 3\n",
    "\n",
    "Таня сидит дома на самоизоляции уже третий месяц. Интернет отключили. Ей скучно. Она достала. из ящика $5$ лампочек, вкрутила их в люстру, поставила посреди комнаты стул и стала ждать когда первая лампочка перегорит. Время работы лампочек $T$ имеет экспоненциальное распределение с параметром $\\lambda = 5$ минут.\n",
    "\n",
    "-  Какова вероятность того, что первая лапочка проработает больше $10$ минут? "
   ]
  },
  {
   "cell_type": "code",
   "execution_count": 4,
   "metadata": {},
   "outputs": [],
   "source": [
    "### ╰( ͡° ͜ʖ ͡° )つ▬▬ι═══════  немого кода там"
   ]
  },
  {
   "cell_type": "markdown",
   "metadata": {},
   "source": [
    "-  Чему равен для первой лампочки $95\\%$ квантиль? Как проинтерпретировать это число? \n",
    "\n",
    "__Ответ:__ _ваша интерпретация квантиля_ "
   ]
  },
  {
   "cell_type": "code",
   "execution_count": 5,
   "metadata": {},
   "outputs": [],
   "source": [
    "### ╰( ͡° ͜ʖ ͡° )つ▬▬ι═══════  немого кода сям"
   ]
  },
  {
   "cell_type": "markdown",
   "metadata": {},
   "source": [
    "Пусть случайная велчина $X = \\min(T_1, \\ldots, T_5)$ - время до перегорания первой лампочки. Оцените: \n",
    "\n",
    "- $P(X > 10)$\n",
    "- $P(X > 10 \\mid T_1 > 5)$\n",
    "- $E(X)$\n",
    "- $E(X \\mid T_1 > 5)$"
   ]
  },
  {
   "cell_type": "code",
   "execution_count": 6,
   "metadata": {},
   "outputs": [],
   "source": [
    "### ╰( ͡° ͜ʖ ͡° )つ▬▬ι═══════  немого кода пам"
   ]
  },
  {
   "cell_type": "markdown",
   "metadata": {},
   "source": [
    "Пусть случайная величина $Y = \\max(T_1, \\ldots, T_5)$ - время до перегорания последней лампочки. Оцените \n",
    "\n",
    "- $E(Y - X)$\n",
    "- $P(Y > 2 X)$ \n",
    "- $Cov(X,Y)$,\n",
    "- $Var(X), Var(Y)$, какая из дисперсий больше, почему?"
   ]
  },
  {
   "cell_type": "code",
   "execution_count": 7,
   "metadata": {},
   "outputs": [],
   "source": [
    "### ╰( ͡° ͜ʖ ͡° )つ▬▬ι═══════  немого шкода"
   ]
  },
  {
   "cell_type": "markdown",
   "metadata": {},
   "source": [
    "__[бонусные 20 баллов]__\n",
    "\n",
    "Попробуйте руками на бумажке выяснить какое распределение будет у случайных велчин $X$ и $Y$. \n",
    "\n",
    "- Найдите их плотности распрееления.\n",
    "- Представим, что у нас $n$ лампочек. Как плотности распределения зависят от $n$?\n",
    "- Найдите $E(X - Y)$. Куда оно стремится при $n \\to \\infty$?\n",
    "- Если это возможно, найдите совместную плотность распределения $f(x, y)$\n",
    "- Найдите $Cov(X, Y)$. Как она зависит от $n$? Куда она сходится при $n \\to \\infty$?\n",
    "\n",
    "__Решение:__ "
   ]
  },
  {
   "cell_type": "code",
   "execution_count": 8,
   "metadata": {},
   "outputs": [],
   "source": [
    "### решение на бумажке"
   ]
  },
  {
   "cell_type": "markdown",
   "metadata": {},
   "source": [
    "### [5]  Задачка 4\n",
    "\n",
    "Продавщица баба Зина сидит в магазине. Повсюду самоизоляция. Единственное место куда можно сходить погулять - её магазин. Бабе Зине весело. \n",
    "\n",
    "Время между приходами людей в магазин распределено экспоненциально. В среднем за $10$ минут приходит $5$ покупателей. Время обслуживания тоже имеет экспоненциальное распределение. В среднем за $10$ минут баба Зина может обслужить $6$ человек. \n",
    "\n",
    "- Какова вероятность того, что в очереди стоит ровно $5$ человек? \n",
    "- Какова средняя длина очереди? \n",
    "- Постройте для длины очереди гистограмму. Как думаете какое у неё распределение?"
   ]
  },
  {
   "cell_type": "code",
   "execution_count": 11,
   "metadata": {},
   "outputs": [
    {
     "name": "stdout",
     "output_type": "stream",
     "text": [
      "Средняя длина очереди:  5.049748 \n",
      "Вероятность того, что в очереди пять человек:  0.0670996 \n"
     ]
    },
    {
     "data": {
      "image/png": "[encoded data removed]",
      "text/plain": [
       "plot without title"
      ]
     },
     "metadata": {},
     "output_type": "display_data"
    }
   ],
   "source": [
    "a <- 5 # среднее число пришедших покупателей за 10 минут\n",
    "b <- 6 # среднее число обслуженных покупателей за 10 минут\n",
    "\n",
    "n_obs <- 10^6\n",
    "\n",
    "# 10 минут принимаем за единицу времени\n",
    "\n",
    "arr <- rexp(n_obs-1, 5) # Время, через которое придет новый человек\n",
    "serv <- rexp(n_obs-1, 6) # Время, за которое будет обслужен один человек\n",
    "\n",
    "arr1 <- 0 # время прихода первого покупателя\n",
    "serv1 <- arr1 + serv[1] # время обслуживания первого покупателя\n",
    "\n",
    "arr <- c(arr1, arr)\n",
    "serv <- c(serv1, serv)\n",
    "\n",
    "arrtime <- c(arr1,rep(0,n_obs-1)) # массив для записи времени, в которое прибывают покупатели\n",
    "servtime <- c(serv1,rep(0,n_obs-1)) # массив для записи времени, в которое обслуживают покупателей\n",
    "\n",
    "for (i in 2:n_obs){\n",
    "  arrtime[i] <- arrtime[i-1] + arr[i]\n",
    "}\n",
    "\n",
    "for (j in 2:n_obs){\n",
    "  servtime[j] <- max(arrtime[j]+serv[j], servtime[j-1]+serv[j])\n",
    "}\n",
    "\n",
    "# Посчитаем число людей в очереди на каждый момент изменения состояния очереди\n",
    "\n",
    "h <- 1\n",
    "g <- 1\n",
    "n <- 0\n",
    "queue <- rep(0,2*n_obs)\n",
    "\n",
    "for(i in 1:(2*n_obs)){\n",
    "\n",
    "  if(h==n_obs+1){\n",
    "    n <- n-1\n",
    "    queue[i] <- n\n",
    "    \n",
    "    g <- g+1\n",
    "    \n",
    "  } else if(g==n_obs+1){\n",
    "    n <- n+1\n",
    "    queue[i] <- n\n",
    "    \n",
    "    h <- h+1\n",
    "    \n",
    "  } else if(arrtime[h] < servtime[g]){\n",
    "  n <- n+1\n",
    "  queue[i] <- n\n",
    "  \n",
    "  h <- h+1\n",
    "  \n",
    "} else {\n",
    "  n <- n-1\n",
    "  queue[i] <- n\n",
    "  \n",
    "  g <- g+1\n",
    "\n",
    "}\n",
    "\n",
    "}\n",
    "\n",
    "# Получили длину очереди после каждого изменения состояния очереди. Но такое распределение\n",
    "# не отражает, как долго держится определенное состояние очереди. Получим распределение\n",
    "# из измерений длины очереди, сделанных через равные промежутки времени. \n",
    "\n",
    "changetime <- sort(c(arrtime,servtime))\n",
    "\n",
    "step <- 0.005\n",
    "\n",
    "D <- seq(from=0,to=max(changetime)+step, by=step)\n",
    "\n",
    "tqueue <- rep(0,length(D))\n",
    "\n",
    "t <- 2\n",
    "for(i in 1:length(D)){\n",
    "  \n",
    "  if(D[i]<changetime[t]){\n",
    "    tqueue[i] <- queue[t-1]\n",
    "  } else {\n",
    "    t <- t+1\n",
    "    tqueue[i] <- queue[t-1]\n",
    "  }\n",
    "}\n",
    "\n",
    "tqueue[length(tqueue)] <- 1\n",
    "\n",
    "cat(\"Средняя длина очереди: \", mean(tqueue),\"\\n\")\n",
    "\n",
    "cat(\"Вероятность того, что в очереди пять человек: \", length(which(tqueue==5))/length(tqueue),\"\\n\")\n",
    "    \n",
    "qplot(queue, bins=30)"
   ]
  },
  {
   "cell_type": "code",
   "execution_count": null,
   "metadata": {},
   "outputs": [],
   "source": [
    "# Длина очереди имеет геометрическое распределение"
   ]
  },
  {
   "cell_type": "markdown",
   "metadata": {},
   "source": [
    "В магазин на работу вышла тётя Маша. Она обслуживает в среднем $7$ покупателей за $10$ минут. Два клиента подошли к кассам одновременно. Какова вероятность того, что тётя Зина обслужит клиента быстрее? "
   ]
  },
  {
   "cell_type": "code",
   "execution_count": 12,
   "metadata": {},
   "outputs": [
    {
     "name": "stdout",
     "output_type": "stream",
     "text": [
      "Вероятность того, что тётя Зина обслужит быстрее:  0.461702"
     ]
    }
   ],
   "source": [
    "servZ <- rexp(n_obs, 6)\n",
    "servM <- rexp(n_obs, 7)\n",
    "\n",
    "faster <- rep(0,n_obs)\n",
    "\n",
    "for (j in 1:n_obs){\n",
    "  if(servZ[j]<servM[j]){\n",
    "    faster[j] <- 1\n",
    "  }\n",
    "}\n",
    "\n",
    "cat(\"Вероятность того, что тётя Зина обслужит быстрее: \", sum(faster)/n_obs)"
   ]
  },
  {
   "cell_type": "markdown",
   "metadata": {},
   "source": [
    "### [5]  Задачка 5\n",
    "\n",
    "Пока мир сидит на самоизоляции, технологические компании [тестируют свои беспилотные машины и поезда.](https://www.rbc.ru/technology_and_media/03/04/2020/5e871ecf9a794784dd22f1de)\n",
    "\n",
    "Прямо сейчас от станции Ромашково друг за другом в одном направлении отходит $100$ паровозиков с интервалом в одну минуту. Стартовые скорости паравозиков - независимые, равномерные на отрезке $[0;1]$ случайные величины. Когда более быстрый паровозик догоняет более медленный, они снижает свою скорость до скорости догнанного паровозика. \n",
    "\n",
    "Через достаточно длинный интервал времени паровозики разобьются на несколько групп. С помощью симуляций найдитет ответ на следующие вопросы: \n",
    "\n",
    "__[а]__  Какова вероятность того, что пятый паровозик - лидер очередной группы? \n",
    "\n",
    "__[б]__  Пусть $X$ - число групп, на которое разбились паравозики. На сколько групп в среднем разбиваются паравозики?\n",
    "\n",
    "__[в]__  Чему равна дисперсия количества групп?\n",
    "\n",
    "__[г]__  Пусть случайная величина $T$ - время, в течение которого праовозики разбиваются на несколько групп. Оцените $E(T)$ и $Var(T)$. \n",
    "\n",
    "__[д]__ Оцените $Cov(X, T)$."
   ]
  },
  {
   "cell_type": "code",
   "execution_count": 11,
   "metadata": {},
   "outputs": [],
   "source": [
    "### ╰( ͡° ͜ʖ ͡° )つ▬▬ι═══════  снова код"
   ]
  },
  {
   "cell_type": "markdown",
   "metadata": {},
   "source": [
    "__[бонусные 10 баллов]__ найдите решение пунктов __а, б, в__ руками на бумажке. (это задачка номер 78 из [культурного кода.](https://github.com/bdemeshev/probability_dna/blob/master/probability_dna.pdf)"
   ]
  },
  {
   "cell_type": "markdown",
   "metadata": {},
   "source": [
    "__[a]__ Чтобы пятый паровозик оказался лидером группы, он не должен догнать паровозики, едущие впереди. Это означает, что скорость пятого паровозика должна быть меньше, чем скорость любого из паровозиков впереди (т.к. если хотя бы один из них медленнее предыдущих, то предыдущие его догонят и примут скорость самого медленного). Тогда вероятность того, что пятый паровозик станет лидером группы, составит $\\frac{1}{5}$ (или $0.2$); точно так же, для паровоза с номером $n$ вероятность оказаться лидером группы - $\\frac{1}{n}$."
   ]
  },
  {
   "cell_type": "markdown",
   "metadata": {},
   "source": [
    "__[б]__ Перейдём к индикаторам. Пусть $I_n = 1$, если $n$-й паровозик стал лидером группы, и $I_n = 0$ в противном случае.\n",
    "Тогда $E(I_n)=\\frac{1}{n}$. Случайная величина \"Число групп, на которые разбились паровозики\" ($X$) равна сумме индикаторов становления паровозика лидером (сколько лидеров - столько групп): \n",
    "$$\n",
    "X=I_1+I_2+\\dots+I_{100} \n",
    "$$\n",
    "Тогда получим математическое ожидание числа групп: \n",
    "\n",
    "$$\n",
    "E(X) = E(I_1+I_2+\\dots+I_{100})= E(I_1)+E(I_2)+\\dots+E(I_{100});\n",
    "$$\n",
    "\n",
    "$$\n",
    "E(X) = 1 + \\frac{1}{2} + \\frac{1}{3} + \\ldots + \\frac{1}{100} = H_n \\approx ln(n) + \\gamma = 5.18\n",
    "$$ \n",
    "\n",
    "*(Здесь $\\gamma$ - постоянная Эйлера, $\\gamma \\approx 0.5772 \\dots $)*"
   ]
  },
  {
   "cell_type": "markdown",
   "metadata": {},
   "source": [
    "__[в]__  Заметим, что становление одного паровозика лидером не связано с лидерством какого-либо другого паровоза. Если паровозик $А$, идущий впереди паровозика $В$, является лидером, то это говорит только о том, что скорость $А$ меньше скорости паровозиков впереди него. Если паровозик $В$ - лидер, то его скорость меньше скорости паровозика $А$, но этот факт не влияет на лидество или его отсутствие у $А$ (т.е. факт лидерства $В$ не влияет на порядок паровозов впереди него). Следовательно, события \"Паровозик $n$ - лидер\" для $n \\in [1; 100]$ независимы.\n",
    "\n",
    "Тогда, поскольку $D(Y)=E(Y^2)-E^2(Y)$, получим:\n",
    "\n",
    "$$\n",
    "D(I_n)=\\frac{1}{n} - \\frac{1}{n^2}=\\frac{1}{n}(1-\\frac{1}{n})\n",
    "$$\n",
    "Тогда:\n",
    "$$\n",
    "Var(X) = 0 + \\frac{1}{2}(1-\\frac{1}{2}) + \\frac{1}{3}(1-\\frac{1}{3}) + \\ldots + \\frac{1}{100}(1-\\frac{1}{100})\n",
    "$$ \n",
    "$$\n",
    "Var(X) = \\sum_{n=1}^{100} \\frac{1}{n} - \\sum_{n=1}^{100} \\frac{1}{n^2} \\approx 5.18 - 1.63 = 3.55 \n",
    "$$ "
   ]
  },
  {
   "cell_type": "markdown",
   "metadata": {},
   "source": [
    "### [5]  Задачка 6\n",
    "\n",
    "Денис тоже сидит в самоизоляции. Он берёт карты из хорошо перемешанной колоды с $36$ картами до тех пор, пока не возьмёт даму пик. Сколько в среднем бубновых карт он получит? "
   ]
  },
  {
   "cell_type": "code",
   "execution_count": 7,
   "metadata": {},
   "outputs": [
    {
     "name": "stdout",
     "output_type": "stream",
     "text": [
      "Среднее количество бубновых карт до пиковой дамы: 4.5306 \n"
     ]
    }
   ],
   "source": [
    "diamonds <- c(106:114) # бубны; 111 - бубновый валет, 112 - дама и т.п.\n",
    "hearts   <- c(206:214) # червы\n",
    "spades   <- c(306:314) # пики; 312 - дама пик\n",
    "clubs    <- c(406:414) # трефы\n",
    "\n",
    "mean_sp_num <- 0\n",
    "\n",
    "for(j in 1:10000){\n",
    "\n",
    "cards <- sample(c(diamonds, hearts, spades, clubs))\n",
    "ii <- which(cards==312)\n",
    "spadesnumber <- 0\n",
    "\n",
    "for(i in 1:ii){\n",
    "  if(cards[i]>100 & cards[i]<115){\n",
    "    spadesnumber <- spadesnumber + 1\n",
    "  }\n",
    "}\n",
    "\n",
    "mean_sp_num <- mean_sp_num + spadesnumber\n",
    "}\n",
    "\n",
    "cat(\"Среднее количество бубновых карт до пиковой дамы:\", mean_sp_num/10000, \"\\n\")"
   ]
  },
  {
   "cell_type": "markdown",
   "metadata": {},
   "source": [
    "Пусть каждая карта приносит Денису деньги согласно достоинству: шестёрка - $6$ рублей, $\\ldots$, десятка - $10$ рублей, валет - $11$ рублей, дама - $12$ рублей, король - $13$ рублей, туз - $14$ рублей. \n",
    "\n",
    "Какова вероятность того, что Денис наберёт меньше $100$ рублей? "
   ]
  },
  {
   "cell_type": "code",
   "execution_count": 21,
   "metadata": {},
   "outputs": [
    {
     "name": "stdout",
     "output_type": "stream",
     "text": [
      "Вероятность набрать меньше 100 рублей: 0.2627 \n"
     ]
    }
   ],
   "source": [
    "profit_prob <- c()\n",
    "\n",
    "for(j in 1:10000){\n",
    "  \n",
    "  cards <- sample(c(diamonds, hearts, spades, clubs))\n",
    "  ii <- which(cards==312)\n",
    "  profit <- 0\n",
    "  \n",
    "  for(i in 1:ii){\n",
    "    for(g in 1:4){\n",
    "      if(cards[i]>100*g & cards[i]<115*g){\n",
    "        cards[i] <- cards[i]-100*g\n",
    "      }}}\n",
    "  \n",
    "    profit <- sum(cards[1:ii])\n",
    "\n",
    "\n",
    "  if(profit<100){\n",
    "    profit <- 1\n",
    "  } else{\n",
    "    profit <- 0\n",
    "  }\n",
    "  profit_prob <- c(profit_prob,profit)\n",
    "}\n",
    "\n",
    "cat(\"Вероятность набрать меньше 100 рублей:\", sum(profit_prob)/10000, \"\\n\")"
   ]
  },
  {
   "cell_type": "markdown",
   "metadata": {},
   "source": [
    "### [10]  Задачка 7 (основано на реальных событиях) \n",
    "\n",
    "Филиппу $12$ лет, он играет в покер против своего брата Максима и его плюшевой обезьянки. Игра идёт в обычный покер без джокеров, колодой из $52$ карт, где всем игрокам сдаётся по $5$ карт на руки. \n",
    "\n",
    "С помощью симуляций расчитайте вероятности комбинаций: \n",
    "\n",
    "- Pair (пара) - две карты одного достоинства, три остальные - разного\n",
    "- Two pairs (две пары)\n",
    "- Three of kind (тройка) \n",
    "- Straight (стрит) - пять последовательных карт, есть карты разных мастей\n",
    "- Flush (флэш) - все карты одной масти, но не последовательных достоинств\n",
    "- Full House (фул-хаус) - три карты одного достоинства и две другого\n",
    "- Four of Kind (каре) - четыре карты одного достоинства\n",
    "- Straight Flush (стрит-флэш) - пять последовательных карт одной масти\n",
    "- Royal Flush (роял-флэш) - старшие пять последовательных карт одной масти \n",
    "\n"
   ]
  },
  {
   "cell_type": "code",
   "execution_count": 15,
   "metadata": {},
   "outputs": [],
   "source": [
    "### ╰( ͡° ͜ʖ ͡° )つ▬▬ι═══════  немого кода здесь"
   ]
  },
  {
   "cell_type": "markdown",
   "metadata": {},
   "source": [
    "У Филиппа на руках тройка королей. Какова вероятность, что его обыграет плюшевая обезьянка? "
   ]
  },
  {
   "cell_type": "code",
   "execution_count": 16,
   "metadata": {},
   "outputs": [],
   "source": [
    "### ╰( ͡° ͜ʖ ͡° )つ▬▬ι═══════  немого кода здесь"
   ]
  },
  {
   "cell_type": "markdown",
   "metadata": {},
   "source": [
    "__[бонусные 10]__ посчитайте все эти вероятности на бумажке руками"
   ]
  },
  {
   "cell_type": "markdown",
   "metadata": {},
   "source": [
    "### [5]  Задачка 8\n",
    "\n",
    "Коронавирус продолжает выкашивать людей! Мише это в конец надоело, поэтому он заперся в своей комнате в общаге и разработал новый тест на инфекцию. Тест Миши никогда не ошибается. Если человек болен, он моментально это находит. Есть только один нюанс. Тест очень дорого производить, а тестировать придётся всю Россию. \n",
    "\n",
    "Миша довольно находчивый и придумал способ сэкономить. Он предлагает разбить всех людей в России на группы по $k$ человек. Люди из одной группы сдают на анализ свои мазки из носоглотки. Дальше каким-то неведомым образом все эти мазки смешиваются в пробирке и она сдаётся на тест. Если тест выявляет, что в пробирке всё хорошо, все $k$ человек объявляются здоровыми. Если тест говорит, что в пробирке был вирус, все $k$ человек сдают индивидуальные тесты для поиска больных. \n",
    "\n",
    "__[а]__ Будем предполагать, что вероятность того, что человек инфицирован в день теста составляет $p = 0.001$. На какое количество групп нужно разбить людей, чтобы сэкономить как можно больше тестов? Сколько в среднем тестов будет сэкономлено?  Ответьте на этот вопрос с помощью симуляций. Все симуляции проводите в расчёте на $1000$ человек."
   ]
  },
  {
   "cell_type": "code",
   "execution_count": 4,
   "metadata": {},
   "outputs": [
    {
     "name": "stdout",
     "output_type": "stream",
     "text": [
      "1000  тестов в среднем понадобилось для  1000  групп(ы) \n",
      "501.0292  тестов в среднем понадобилось для  500  групп(ы) \n",
      "252.9652  тестов в среднем понадобилось для  250  групп(ы) \n",
      "203.9552  тестов в среднем понадобилось для  200  групп(ы) \n",
      "131.9692  тестов в среднем понадобилось для  125  групп(ы) \n",
      "108.9694  тестов в среднем понадобилось для  100  групп(ы) \n",
      "68.9506  тестов в среднем понадобилось для  50  групп(ы) \n",
      "63.8368  тестов в среднем понадобилось для  40  групп(ы) \n",
      "63.5632  тестов в среднем понадобилось для  25  групп(ы) \n",
      "68.5002  тестов в среднем понадобилось для  20  групп(ы) \n",
      "103.1194  тестов в среднем понадобилось для  10  групп(ы) \n",
      "123.4936  тестов в среднем понадобилось для  8  групп(ы) \n",
      "187.4432  тестов в среднем понадобилось для  5  групп(ы) \n",
      "224.7136  тестов в среднем понадобилось для  4  групп(ы) \n",
      "392.8168  тестов в среднем понадобилось для  2  групп(ы) \n",
      "631.369  тестов в среднем понадобилось для  1  групп(ы) \n",
      "\n",
      "Минимальное число тестов -  64 \n",
      "Необходимое число групп -  40 25"
     ]
    }
   ],
   "source": [
    "n_obs <- 5000\n",
    "p <- 1\n",
    "\n",
    "num <- c(1, 2, 4, 5, 8, 10, 20, 25, 40, 50, 100, 125, 200, 250, 500, 1000)\n",
    "CVD <- rep(0, length(num))\n",
    "\n",
    "for(i in num){\n",
    "  Nt <- rep(0, n_obs)\n",
    "  for(z in 1:n_obs){\n",
    "    covid <- sample(c(0, 1), size = 1000, replace = TRUE, prob = c(0.999, 0.001))\n",
    "    N <- 0\n",
    "    M <- c()\n",
    "    y <- 1\n",
    "    \n",
    "    if(sum(covid)==0){\n",
    "      N <- 1000/i\n",
    "    } else {\n",
    "      \n",
    "      while(length(M)!=1000/i){\n",
    "        M <- c(M, i*y)\n",
    "        y <- y+1\n",
    "      } \n",
    "      \n",
    "      for(j in (M-i+1)){\n",
    "        S <- sum(covid[j:(j+i-1)])\n",
    "        if(S>0){\n",
    "          N <- N+i\n",
    "        } else {\n",
    "          N <- N+1\n",
    "        }\n",
    "      }\n",
    "    }\n",
    "    Nt[z] <- N\n",
    "  }\n",
    "  cat((sum(Nt)/n_obs), \" тестов в среднем понадобилось для \", 1000/i, \" групп(ы)\", \"\\n\")\n",
    "  CVD[p] <- (sum(Nt)/n_obs)\n",
    "  p <- p+1\n",
    "}\n",
    "\n",
    "cat(\"\\n\")\n",
    "cat(\"Минимальное число тестов - \", min(ceiling(CVD)),\"\\n\")\n",
    "cat(\"Необходимое число групп - \", 1000/(num[which(ceiling(CVD)==min(ceiling(CVD)))]))"
   ]
  },
  {
   "cell_type": "markdown",
   "metadata": {},
   "source": [
    "В среднем наименьшее число тестов дает разбиение на 40 групп по 25 человек или разбиение на 25 групп по 40 человек: в обоих случаях число тестов ~64. В сравнении с тестированием каждого человека экономится 1000-64=936 тестов."
   ]
  },
  {
   "cell_type": "markdown",
   "metadata": {},
   "source": [
    "__[б]__ Предположим, что тест Миши всё-таки ошибается. Вероятность того, что он объявит здорового больным равна $0.02$. В обратную сторону ошибки не происходит. Какое значиние $k$ окажется оптимальным в таком случае? "
   ]
  },
  {
   "cell_type": "code",
   "execution_count": 38,
   "metadata": {},
   "outputs": [
    {
     "name": "stdout",
     "output_type": "stream",
     "text": [
      "1000  тестов в среднем понадобилось для  1000  групп(ы) \n",
      "520.7036  тестов в среднем понадобилось для  500  групп(ы) \n",
      "311.188  тестов в среднем понадобилось для  250  групп(ы) \n",
      "280.4832  тестов в среднем понадобилось для  200  групп(ы) \n",
      "261.4342  тестов в среднем понадобилось для  125  групп(ы) \n",
      "271.774  тестов в среднем понадобилось для  100  групп(ы) \n",
      "379.0648  тестов в среднем понадобилось для  50  групп(ы) \n",
      "434.4448  тестов в среднем понадобилось для  40  групп(ы) \n",
      "582.739  тестов в среднем понадобилось для  25  групп(ы) \n",
      "658.9502  тестов в среднем понадобилось для  20  групп(ы) \n",
      "879.9328  тестов в среднем понадобилось для  10  групп(ы) \n",
      "928.8736  тестов в среднем понадобилось для  8  групп(ы) \n",
      "984.9158  тестов в среднем понадобилось для  5  групп(ы) \n",
      "995.3188  тестов в среднем понадобилось для  4  групп(ы) \n",
      "1000  тестов в среднем понадобилось для  2  групп(ы) \n",
      "1000  тестов в среднем понадобилось для  1  групп(ы) \n",
      "\n",
      "Минимальное число тестов -  262 \n",
      "Необходимое число групп -  125"
     ]
    }
   ],
   "source": [
    "n_obs <- 5000\n",
    "p <- 1\n",
    "\n",
    "num <- c(1, 2, 4, 5, 8, 10, 20, 25, 40, 50, 100, 125, 200, 250, 500, 1000)\n",
    "CVD <- rep(0, length(num))\n",
    "\n",
    "for(i in num){\n",
    "Nt <- c()\n",
    "  for(z in 1:n_obs){\n",
    "  \n",
    "  covid <- sample(c(0, 1), size = 1000, replace = TRUE, prob = c(0.999, 0.001))\n",
    "  \n",
    "  wrongcovid <- sample(c(0, 1), size = 1000, replace = TRUE, prob = c(0.98, 0.02))\n",
    "  \n",
    "  for(g in 1:1000){\n",
    "    \n",
    "    if(covid[g]!=1){\n",
    "      covid[g] <- wrongcovid[g]\n",
    "    }\n",
    "  }\n",
    "  \n",
    "  N <- 0\n",
    "  M <- c()\n",
    "  y <- 1\n",
    "  \n",
    "  if(sum(covid)==0){\n",
    "    N <- 1000/i\n",
    "  } else {\n",
    "  \n",
    "  while(length(M)!=1000/i){\n",
    "  M <- c(M, i*y)\n",
    "  y <- y+1\n",
    "  } \n",
    "\n",
    "  for(j in (M-i+1)){\n",
    "    S <- sum(covid[j:(j+i-1)])\n",
    "    if(S>0){\n",
    "      N <- N+i\n",
    "    } else {\n",
    "      N <- N+1\n",
    "    }\n",
    "  }\n",
    "  }\n",
    "Nt <- c(Nt,N)\n",
    "  }\n",
    " cat((sum(Nt)/n_obs), \" тестов в среднем понадобилось для \", 1000/i, \" групп(ы)\", \"\\n\")\n",
    " CVD[p] <- (sum(Nt)/n_obs)\n",
    " p <- p+1\n",
    "}\n",
    "\n",
    "cat(\"\\n\")\n",
    "cat(\"Минимальное число тестов - \", min(ceiling(CVD)),\"\\n\")\n",
    "cat(\"Необходимое число групп - \", 1000/(num[which(ceiling(CVD)==min(ceiling(CVD)))]))"
   ]
  },
  {
   "cell_type": "markdown",
   "metadata": {},
   "source": [
    "__[Дополнительно]__ Решение для любого k  от 1 до 1000 (последняя группа может содержать меньше чем k человек)"
   ]
  },
  {
   "cell_type": "markdown",
   "metadata": {},
   "source": [
    "*Из результатов для разбиения на равные группы видно, что необходимое число тестов с ростом k сначала увеличивается, затем с некоторого k убывает. Для экономии времени можно рассмотреть окрестности тех количеств групп, которые соответствовали минимальному k в предыдущем решении.*"
   ]
  },
  {
   "cell_type": "markdown",
   "metadata": {},
   "source": [
    "__[a]__ Тест не ошибается"
   ]
  },
  {
   "cell_type": "code",
   "execution_count": 3,
   "metadata": {},
   "outputs": [
    {
     "name": "stdout",
     "output_type": "stream",
     "text": [
      "Минимальное число тестов -  62 \n",
      "Сэкономлено тестов -  938 \n",
      "Необходимое число групп -  32"
     ]
    }
   ],
   "source": [
    "CVD <- c()\n",
    "\n",
    "for(i in c(20:40)){\n",
    "  Nt <- c()\n",
    "  for(z in 1:10000){\n",
    "    covid <- sample(c(0, 1), size = 1000, replace = TRUE, prob = c(0.999, 0.001))\n",
    "    N <- 0\n",
    "    M <- c()\n",
    "    y <- 1\n",
    "    \n",
    "    if(sum(covid)==0){\n",
    "      N <- floor(1000/i)\n",
    "    } else {\n",
    "      \n",
    "      while(length(M)!=floor(1000/i)){\n",
    "        M <- c(M, i*y)\n",
    "        y <- y+1\n",
    "      } \n",
    "      \n",
    "      for(j in (M-i+1)){\n",
    "        S <- sum(covid[j:(j+i-1)])\n",
    "        if(S>0){\n",
    "          N <- N+i\n",
    "        } else {\n",
    "          N <- N+1\n",
    "        }\n",
    "      }\n",
    "      \n",
    "      if((j+i-1)<1000){\n",
    "        S <- sum(covid[(j+i-1):1000])\n",
    "        if(S>0){\n",
    "          N <- N+i\n",
    "        } else {\n",
    "          N <- N+1\n",
    "        } \n",
    "      }\n",
    "      \n",
    "    }\n",
    "    \n",
    "    Nt <- c(Nt,N)\n",
    "  }\n",
    "  CVD <- c(CVD, (sum(Nt)/10000))\n",
    "  \n",
    "}\n",
    "\n",
    "cat(\"Минимальное число тестов - \", min(ceiling(CVD)),\"\\n\")\n",
    "cat(\"Сэкономлено тестов - \", 1000-min(ceiling(CVD)),\"\\n\")\n",
    "\n",
    "cat(\"Необходимое число групп - \", ceiling(1000/(which(CVD==min(CVD))+19)))\n"
   ]
  },
  {
   "cell_type": "markdown",
   "metadata": {},
   "source": [
    "__[б]__ Тест ошибается"
   ]
  },
  {
   "cell_type": "code",
   "execution_count": 36,
   "metadata": {},
   "outputs": [
    {
     "name": "stdout",
     "output_type": "stream",
     "text": [
      "Минимальное число тестов -  262 \n",
      "Необходимое число групп -  125"
     ]
    }
   ],
   "source": [
    "CVD <- c()\n",
    "\n",
    "for(i in c(6:10)){  # i - число человек в группе; в 125 группах было по 8 человек. Смотрим окрестность\n",
    "  Nt <- c()\n",
    "  for(z in 1:10000){\n",
    "    \n",
    "    covid <- sample(c(0, 1), size = 1000, replace = TRUE, prob = c(0.999, 0.001))\n",
    "    \n",
    "    wrongcovid <- sample(c(0, 1), size = 1000, replace = TRUE, prob = c(0.98, 0.02))\n",
    "    \n",
    "    for(g in 1:1000){\n",
    "      \n",
    "      if(covid[g]!=1){\n",
    "        covid[g] <- wrongcovid[g]\n",
    "      }\n",
    "    }\n",
    "    \n",
    "    \n",
    "    N <- 0\n",
    "    M <- c()\n",
    "    y <- 1\n",
    "    \n",
    "    if(sum(covid)==0){\n",
    "      N <- floor(1000/i)\n",
    "    } else {\n",
    "      \n",
    "      while(length(M)!=floor(1000/i)){\n",
    "        M <- c(M, i*y)\n",
    "        y <- y+1\n",
    "      } \n",
    "      \n",
    "      for(j in (M-i+1)){\n",
    "        S <- sum(covid[j:(j+i-1)])\n",
    "        if(S>0){\n",
    "          N <- N+i\n",
    "        } else {\n",
    "          N <- N+1\n",
    "        }\n",
    "      }\n",
    "      \n",
    "      if((j+i-1)<1000){\n",
    "        S <- sum(covid[(j+i-1):1000])\n",
    "        if(S>0){\n",
    "          N <- N+i\n",
    "        } else {\n",
    "          N <- N+1\n",
    "        } \n",
    "      }\n",
    "      \n",
    "    }\n",
    "    \n",
    "    Nt <- c(Nt,N)\n",
    "  }\n",
    "  CVD <- c(CVD, (sum(Nt)/10000))\n",
    "  \n",
    "}\n",
    "\n",
    "cat(\"Минимальное число тестов - \", min(ceiling(CVD)),\"\\n\")\n",
    "cat(\"Необходимое число групп - \", ceiling(1000/(which(CVD==min(CVD))+5)))"
   ]
  },
  {
   "cell_type": "markdown",
   "metadata": {},
   "source": [
    "__[бонусные 10]__ Попробуйте решить предыдущие два пункта руками для произвольных вероятностей $p$ и $q$. Как именно оптимальное $k$ зависит от этих вероятностей? \n",
    "\n",
    "__Hint:__ При решении уравнения, которое получится после взятия производной от математического ожидания числа проверок, можно воспользоваться разложением в ряд Тэйлора: $(1 - p)^x \\approx 1 - px$. Это можно сделать, если мы предполагаем, что вероятность заболеть $p$ очень маленькая.   "
   ]
  },
  {
   "cell_type": "markdown",
   "metadata": {},
   "source": [
    "### [2]  Задачка 9\n",
    "\n",
    "У Полины есть не только футболка студпассива, но и выборка, которая на $\\frac{8}{10}$ пришла из нормального распределения с параметрами $0$ и $1$. Оставшаяся часть пришла из [распределения парето](http://ugrad.stat.ubc.ca/R/library/rmutil/html/Pareto.html) с параметарми $20$ и $2$. \n",
    "\n",
    "Правда ли, что хвосты такой смеси тяжелее, чем у стандартного нормального распределения? Нарисуйте гистограмму для смеси и плотность для нормального распределения на одной картинке, чтобы увидеть тяжесть хвостов. \n",
    "\n",
    "Кстати, Полина тоже сидит на самоизоляции дома и ей скучно. "
   ]
  },
  {
   "cell_type": "code",
   "execution_count": 19,
   "metadata": {},
   "outputs": [],
   "source": [
    "### ╰( ͡° ͜ʖ ͡° )つ──☆  кооод"
   ]
  },
  {
   "cell_type": "markdown",
   "metadata": {},
   "source": [
    "### [3]  Задачка 10\n",
    "\n",
    "Пущай у нас есть стрёмная функция распределения. Например, вот такая: \n",
    "\n",
    "$$\n",
    "F(x) = \\left( \\frac{\\ln x}{\\ln \\theta} \\right)^{\\alpha},  \\quad x \\in [1; \\theta]\n",
    "$$\n",
    "\n",
    "Давайте сгенерим из неё выборку с помощью квантильного преобразования. "
   ]
  },
  {
   "cell_type": "code",
   "execution_count": null,
   "metadata": {},
   "outputs": [],
   "source": [
    "# Обратная функция имеет вид:"
   ]
  },
  {
   "cell_type": "markdown",
   "metadata": {},
   "source": [
    "$$\n",
    "F^{-1}(y) =  \\theta^{{y}^{\\frac{1}{\\alpha}}},  \\quad y \\in [0; 1]\n",
    "$$"
   ]
  },
  {
   "cell_type": "code",
   "execution_count": 25,
   "metadata": {},
   "outputs": [
    {
     "data": {
      "image/png": "[encoded data removed]",
      "text/plain": [
       "plot without title"
      ]
     },
     "metadata": {},
     "output_type": "display_data"
    }
   ],
   "source": [
    "# Выберем значения параметров\n",
    "phi <- 0.5\n",
    "alpha <- 2\n",
    "\n",
    "y <- runif(10^6)\n",
    "x <- phi^(y^(1/alpha))\n",
    "qplot(x, bins=50)"
   ]
  },
  {
   "cell_type": "markdown",
   "metadata": {},
   "source": [
    "### [5]  Задачка 11\n",
    "\n",
    "У древнего морского монстра ~~Коронавируса~~ Кракена $8$ ног-щупалец. Если отрубить одно щупальце, то взамен него с вероятностью $0.25$ отрастает новое, с вероятностью $0.25$ отрастает два новых, с вероятностью $0.5$, слава Океану, не вырастает ничего. \n",
    "\n",
    "Против Кракена бьётся сам Капитан! Он наносит точные удары и безупречно умело уворачивается от ударов Кракена. \n",
    "\n",
    "__[а]__ Какова вероятность того, что Капитан победит, отрубив ровно $10$ щупалец? \n",
    "\n",
    "__[б]__ Какова вероятность, что бой Капитана и Кракена продлиться вечно? \n",
    "\n",
    "__[в]__ Сколько щупалец в среднем отрубит Капитан прежде, чем победит? \n",
    "\n",
    "Ответьте на эти вопросы с помощью симуляций.\n",
    "\n",
    "__[бонусные 10]__ А также ручкой на бумаге! Если есть желание научиться решать подобные рекурсивные задачки, можно посмотреть [серию видосов от моего любимого ББ.](https://vimeo.com/showcase/2521777) Смотреть с первого :) \n",
    "\n"
   ]
  },
  {
   "cell_type": "code",
   "execution_count": 21,
   "metadata": {},
   "outputs": [],
   "source": [
    "### ╰( ͡° ͜ʖ ͡° )つ──☆  наколдуй немного магии"
   ]
  },
  {
   "cell_type": "markdown",
   "metadata": {},
   "source": [
    "### [5] Задачка 12\n",
    "\n",
    "У распределения Хи-квадрат есть милое свойство. Известно, что если $X_1, \\ldots, X_n \\sim iid~N(0,1)$, тогда имеет место следующая сходимость по веротяности:\n",
    "\n",
    "$$\n",
    "\\frac{\\chi^2_n}{n} = \\frac{X_1^2 + \\ldots + X_n^2}{n} \\to  1\n",
    "$$\n",
    "\n",
    "Продемонстрируйте с помощью симуляций в R, что это именно так. От вас требуется построить ту же картинку, что мы строили при иллюстрации ЗБЧ. Не забудьте построить для нескольких разных $\\varepsilon$ коридоры и убедиться, что последовательность с некоторого момента начинает пробивать их довольно редко."
   ]
  },
  {
   "cell_type": "code",
   "execution_count": 6,
   "metadata": {},
   "outputs": [
    {
     "data": {
      "image/png": "[encoded data removed]",
      "text/plain": [
       "plot without title"
      ]
     },
     "metadata": {},
     "output_type": "display_data"
    }
   ],
   "source": [
    "n_obs <- 1000\n",
    "eps1 <- 0.1\n",
    "eps2 <- 0.2\n",
    "\n",
    "n <- c(1:n_obs)\n",
    "y <- rep(0,n_obs)\n",
    "\n",
    "for(i in 1:n_obs){\n",
    "    y[i] = mean(rnorm(i)^2)\n",
    "}\n",
    "\n",
    "df <- data.frame(x=n, y=y)\n",
    "\n",
    "options(repr.plot.width=8, repr.plot.height=3)\n",
    "\n",
    "ggplot(data=df, aes(x=x)) +\n",
    "  geom_line(aes(y=y), col='black') +\n",
    "  geom_line(aes(y = 1+eps1), col='blue') +\n",
    "  geom_line(aes(y = 1-eps1), col='blue') +\n",
    "    geom_line(aes(y = 1+eps2), col='darkgreen') +\n",
    "    geom_line(aes(y = 1-eps2), col='darkgreen') \n",
    "  "
   ]
  },
  {
   "cell_type": "markdown",
   "metadata": {},
   "source": [
    "Хорошо! Теперь зафиксируйте несколько коридоров также, как мы делали это на паре и пронаблюдайте, как ведут себя вероятности пробить эти коридоры при увеличении $n$."
   ]
  },
  {
   "cell_type": "code",
   "execution_count": 16,
   "metadata": {},
   "outputs": [
    {
     "data": {
      "image/png": "[encoded data removed]",
      "text/plain": [
       "plot without title"
      ]
     },
     "metadata": {},
     "output_type": "display_data"
    }
   ],
   "source": [
    "options(repr.plot.width=4, repr.plot.height=3)\n",
    "\n",
    "n_obs <- 1000\n",
    "n_tr <- 500\n",
    "y <- rep(0,n_tr)\n",
    "\n",
    "eps1 <- 0.1\n",
    "eps2 <- 0.2\n",
    "\n",
    "p <- rep(0,n_tr)\n",
    "q <- rep(0,n_tr)\n",
    "\n",
    "for(i in 1:n_obs){\n",
    "    \n",
    "   for(i in 1:n_tr){\n",
    "    y[i] = mean(rnorm(i)^2)\n",
    "}\n",
    "  \n",
    "    p <- p + (abs(y-1)>=eps1)\n",
    "  q <- q + (abs(y-1)>=eps2)\n",
    "}\n",
    "\n",
    "p <- p/n_obs\n",
    "q <- q/n_obs\n",
    "\n",
    "df <- data.frame(n=1:n_tr, p=p, q=q)\n",
    "\n",
    "ggplot(data=df, aes(x=n)) +\n",
    "    geom_line(aes(y=p), col=\"red\") +\n",
    "    geom_line(aes(y=q), col=\"magenta\") \n"
   ]
  },
  {
   "cell_type": "markdown",
   "metadata": {},
   "source": [
    "Учитывая, что последовательность случайных величин, приведённая выше, сходится к константе, то есть к вырожденному распределению, дисперсия этой последовательности должна сходится к нулю. Продемонстрируйте, что это действительно так. Для этого нужно скопипастить код из второго пункта и немного отредактировать его.  "
   ]
  },
  {
   "cell_type": "code",
   "execution_count": 18,
   "metadata": {},
   "outputs": [
    {
     "data": {
      "image/png": "[encoded data removed]",
      "text/plain": [
       "plot without title"
      ]
     },
     "metadata": {},
     "output_type": "display_data"
    }
   ],
   "source": [
    "n_obs <- 200\n",
    "n_tr <- 200\n",
    "\n",
    "Variance <- rep(0, n_obs)\n",
    "\n",
    "for(i in 1:n_obs){\n",
    "    y <- rep(0,n_tr)\n",
    "   for(j in 1:n_tr){\n",
    "    y[j] = mean(rnorm(i)^2)\n",
    "}\n",
    "  \n",
    "  Variance[i] <- var(y)\n",
    "}\n",
    "\n",
    "qplot(1:n_obs, Variance, geom = \"line\")\n"
   ]
  },
  {
   "cell_type": "markdown",
   "metadata": {},
   "source": [
    "Если вы хорошо разбирались в лекциях по математической статистике, у вас должна была возникнуть в голове аналогия с Достаточным условием Чебышёва. Оно говорит, что если оценка неизвестного параметра является несмещённой, $E(\\hat \\theta) = \\theta$ и дисперсия этой оценки стремится к нулю, $Var(\\hat \\theta) \\to 0$ при $n \\to \\infty$, то эта оценка состоятельна. \n",
    "\n",
    "Попробуйте ещё раз посмотреть на картинку, которую вы получили выше и переосмыслить это условие. Также не помешает немного подумать о состоятельности оценки и вспомнить определение состоятельности. "
   ]
  },
  {
   "cell_type": "code",
   "execution_count": 25,
   "metadata": {},
   "outputs": [],
   "source": [
    "### ╰( ͡° ͜ʖ ͡° )つ──☆  наколдуй немного магии"
   ]
  },
  {
   "cell_type": "markdown",
   "metadata": {},
   "source": [
    "### [5] Задачка 13\n",
    "\n",
    "Ксюша ... сидит на самоизоляции. У неё есть куча книг и интернет, но она всё-равно скучает. Скучает по Василию Павловичу Решетникову и его лекциям по матстату. Ей безумно не хватает его экспрессии и таланта расказсчика. Поэтому, чтобы унять всю свою сердечную боль и пустоту, она читает книги [Черновой](https://github.com/FUlyankin/r_probability/raw/master/books/Хороший%20учебник%20по%20матстату.pdf) и [Лагутина](https://yadi.sk/i/UuWhEn_L4X_Rwg) про матстат. \n",
    "\n",
    "Сегодня тоска окончательно разъела сердце Ксюши. Поэтому она стала генеировровать равномерные случайные величины. \n",
    "\n",
    "- Ксюша взяла независимые случайные величны $X, Y \\sim U[1,2]$. Немного поколдовав она получила случайную величину $Z = \\frac{X}{X + Y}$. С помощью симуляций оцените математическое ожидание этой случайной величины сначала на $10$, потом на $11$, $\\ldots$ , потом на $1000$ наблюдениях. Нарисуйте картинку, на которой будет видно к чему сходится эта оценка. "
   ]
  },
  {
   "cell_type": "code",
   "execution_count": 26,
   "metadata": {},
   "outputs": [],
   "source": [
    "### ╰( ͡° ͜ʖ ͡° )つ──☆  наколдуй немного магии"
   ]
  },
  {
   "cell_type": "markdown",
   "metadata": {},
   "source": [
    "- Тепреь Ксюша взяла независимые случайные величны $X, Y \\sim U[-1,1]$. Постройте для $Z$ по аналогии с предыдущим картинку, на которой будет показано к чему сходится оценка математического ожидания этой случайной величины. Как думаете, почему с этой случайной величиной происходит такая странность?"
   ]
  },
  {
   "cell_type": "code",
   "execution_count": 27,
   "metadata": {},
   "outputs": [],
   "source": [
    "### ╰( ͡° ͜ʖ ͡° )つ──☆  наколдуй немного магии"
   ]
  },
  {
   "cell_type": "markdown",
   "metadata": {},
   "source": [
    "## [35+] Кит-рисёрчер\n",
    "\n",
    "**Добро пожаловать в Кита. Кит — это большая рисёрчерская задача с огромным количеством вопросов. В ките есть как ручные вопросы, так и вопросы для симуляций. За каждый вопрос даётся какое-то количество баллов. В каких-то вопросах требуется решить задачу руками на бумажке. В каких-то вопросах требуется произвести симуляцию в R. Продвинтесь в своём рисёрче над этим китом как можно глубже и срубите куш из баллов.** "
   ]
  },
  {
   "cell_type": "markdown",
   "metadata": {},
   "source": [
    "На Земле есть филиал ада. Расположен он в Москве, утром, в час пик, на кончике лиловой ветки метро. Эта задача про него. "
   ]
  },
  {
   "cell_type": "markdown",
   "metadata": {},
   "source": [
    "Южный кончик лиловой ветки Московского метро состоит из станций: \n",
    "\n",
    "    ж  Пролетарская (впервые есть пересадка, люди выходят)    \n",
    "    п  Волгоградский проспект  \n",
    "    п  Текстильщики   \n",
    "    ж  Кузьминки   \n",
    "    п  Рязянский проспект  \n",
    "    ж  Выхино  \n",
    "    ж  Лермонтвоский проспект   \n",
    "    ж  Жулебино (конечная)\n",
    "\n",
    "\n",
    "Каждое утро на ветке разворачиваются драмматические события:\n",
    "\n",
    "* Поезд едет от станции к станции $5$ минут. Из депо поезда запускают каждые 5 минут. В одном поезде помещается $500$ человек. Вместимость поезда описывается переменной $full$, которая принимает значение от $0$ до $1$ (доля занятых мест).\n",
    "* Рассматривается период работы метро с $6$ часов утра до $15$ часов дня. "
   ]
  },
  {
   "cell_type": "markdown",
   "metadata": {},
   "source": [
    "* Разница во времени пика интенсивности между двумя соседними станциями состовляет $30$ минут. Так, в Жулебино максимальная интенсивность наблюдается в $07:30$, на Лермонтовском проспекте в $08:00$ и так далее.\n",
    "\n",
    "* Все станции делятся на два типа: промышленные и жилые. Пик интенсивности на промышленных станциях в три раза ниже. \n",
    "\n",
    "![](https://raw.githubusercontent.com/FUlyankin/r_probability/master/end_seminars_2020/HW/train_arrive.png)"
   ]
  },
  {
   "cell_type": "code",
   "execution_count": 28,
   "metadata": {},
   "outputs": [],
   "source": [
    "station_name = c('жулебино', 'лермонтовский проспект', 'выхино', 'рязанский проспект', \n",
    "                'кузьминки', 'текстильщики', 'волгоградский проспект', 'пролетарская')\n",
    "\n",
    "station_kind = c('ж', 'ж', 'ж', 'п', 'ж', 'п', 'п', 'ж')"
   ]
  },
  {
   "cell_type": "markdown",
   "metadata": {},
   "source": [
    "Люди прибывают на платформу, чтобы сесть в поезд: \n",
    "\n",
    "* Случайная величина $Z \\sim Poiss(\\lambda)$ - число людей, которое прибыло на платформу в течение минуты. Интенсивность $\\lambda$ зависит от времени и изменяется по функции: "
   ]
  },
  {
   "cell_type": "code",
   "execution_count": 29,
   "metadata": {},
   "outputs": [
    {
     "data": {
      "text/html": [
       "0.248599006677543"
      ],
      "text/latex": [
       "0.248599006677543"
      ],
      "text/markdown": [
       "0.248599006677543"
      ],
      "text/plain": [
       "[1] 0.248599"
      ]
     },
     "metadata": {},
     "output_type": "display_data"
    }
   ],
   "source": [
    "sigmoida = function(x) return(1/(1 + exp(-0.03*x)))\n",
    "f = function(x) return(sigmoida(x)*(1 - sigmoida(x)))\n",
    "f(5)"
   ]
  },
  {
   "cell_type": "code",
   "execution_count": 30,
   "metadata": {},
   "outputs": [
    {
     "data": {
      "image/png": "[encoded data removed]",
      "text/plain": [
       "plot without title"
      ]
     },
     "metadata": {},
     "output_type": "display_data"
    }
   ],
   "source": [
    "x = seq(0,540,0.01)\n",
    "y = 150*f(x - 90)         # для жилых станций множитель 150 (высокий пик)\n",
    "qplot(x, y, geom ='line') # пик на Жулебино в 7:30 (через 90 минут после открытия )"
   ]
  },
  {
   "cell_type": "code",
   "execution_count": 31,
   "metadata": {},
   "outputs": [
    {
     "data": {
      "image/png": "[encoded data removed]",
      "text/plain": [
       "plot without title"
      ]
     },
     "metadata": {},
     "output_type": "display_data"
    }
   ],
   "source": [
    "x = seq(0,540,0.01)\n",
    "y = 50*f(x - 210)         # для промышленных станций множитель 50 (низкий пик)\n",
    "qplot(x, y, geom ='line') # пик на Рязанском проспекте в 9:30 (через 210 минут после открытия)"
   ]
  },
  {
   "cell_type": "markdown",
   "metadata": {},
   "source": [
    "Люди пытаются уехать на работу, но удаётся это далеко не всем:\n",
    "\n",
    "* Каждый человек, который оказался на платформе, пытается зайти в поезд. Случайная величина $X$ принимает значение $1$, если ему это удаётся. Вероятность оказаться в поезде зависит от того насколько он заполнен: \n",
    "\n",
    "$$\n",
    "P(X = 1) = 1 - (full)^k,\n",
    "$$\n",
    "\n",
    "где $full$ - доля, на которую загружен поезд, а $k$ - параметр, отвечающий за решимость людей садиться в него. Так, для Жулебино он равен $0.2$, потому что на очень то хочется заходить в поезд, где не осталось пустых сидений. Лучше подождать новый и присесть. Для Кузьминок он равен $2.6$, потому что поезда приезжают переполненными и люди настроены более решительно. \n",
    "\n",
    "* Будем считать, что люди заходят в поезд по очереди. Сначала первый, потом второй, потом третий и тд. После каждого нового зашедшего человека $full$ меняется и вероятность считается уже с новым значением параметра.\n",
    "\n",
    "\n",
    "![](https://raw.githubusercontent.com/FUlyankin/r_probability/master/end_seminars_2020/HW/fullnes.png)"
   ]
  },
  {
   "cell_type": "markdown",
   "metadata": {},
   "source": [
    "Вам предстоит просимулировать каждую минуту этого прекрасного утра на своём компьютере и ответить на вопросы: \n",
    "\n",
    "__а)__  На какой станции скапливается максимальное число людей? Во сколько это происходит? Постройте картинки с зависимостью числа людей на платформе от времени для каждой станции. Есть ли на этих картинках что-то странное? Как бы вы это объяснили? \n",
    "\n",
    "__б)__  Администрация метро хочет противодействовать проблемам со скапливанием людей. Для этого она придумывает стратегию \"пустой поезд\". Каждый пятый поезд, приезжающий в Кузьминки будет пустым. Он будет проезжать мимо всех станций и забирать людей из Кузьминок. Выберите оптимальное время запуска пустого поезда, руководствуясь результатами из пункта а). Насколько сильно такая стратегия ухудшит состояние всех оставшихся станций? Правда ли, что Кузьминки вздохнут спокойно и разгрузятся? \n",
    "\n",
    "__в)__  Администрация метро решила, что будет считать проблемы, возникающие при загрузке как сумму всех людей на станциях. На какую станцию оптимальнее всего посылать каждый пятый поезд пустым, чтобы минимизировать эту величину? \n",
    "\n",
    "Лучшее решение этой задачи будет направлено в мэрию. И Москва похорошеет ещё пуще прежнего. "
   ]
  },
  {
   "cell_type": "code",
   "execution_count": 32,
   "metadata": {},
   "outputs": [],
   "source": [
    "# Ваш код"
   ]
  },
  {
   "cell_type": "markdown",
   "metadata": {},
   "source": [
    "__ВАЖНО:__ Задача в плане своего условия сформулированна очень громоздко и непонятно. Бонусные баллы можно получить, если придумать как упростить формулировку не потеряв в смысле. Также бонусные баллы можно получить за интересные идеи для симуляций. "
   ]
  },
  {
   "cell_type": "markdown",
   "metadata": {},
   "source": [
    " "
   ]
  }
 ],
 "metadata": {
  "kernelspec": {
   "display_name": "R",
   "language": "R",
   "name": "ir"
  },
  "language_info": {
   "codemirror_mode": "r",
   "file_extension": ".r",
   "mimetype": "text/x-r-source",
   "name": "R",
   "pygments_lexer": "r",
   "version": "3.6.1"
  }
 },
 "nbformat": 4,
 "nbformat_minor": 2
}
