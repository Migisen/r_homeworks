{
 "cells": [
  {
   "cell_type": "markdown",
   "metadata": {},
   "source": [
    "<img src=\"https://raw.githubusercontent.com/FUlyankin/r_probability/master/end_seminars/sem_2/yYGiBqtirSM.jpg\" height=\"300\" width=\"300\"> \n",
    "\n",
    "# <center> R для тервера и матстата. <br>  <br> Домашка номер раз! </center>\n",
    "\n",
    "Данный ноутбук является домашкой по курсу «R для теории вероятностей и математической статистики» (РАНХиГС, 2020). Автор ноутбука - [вот этот парень по имени Филипп.](https://vk.com/ppilif) Если у вас для него есть деньги, слава или женщины, он от этого всего не откажется. Ноутбук распространяется на условиях лицензии [Creative Commons Attribution-Share Alike 4.0.](https://creativecommons.org/licenses/by-sa/4.0/) При использовании обязательно упоминание автора курса и аффилиации. При наличии технической возможности необходимо также указать активную гиперссылку на [страницу курса.](https://fulyankin.github.io/r_probability/) На ней можно найти другие материалы. Фрагменты кода, включенные в этот notebook, публикуются как [общественное достояние.](https://creativecommons.org/publicdomain/zero/1.0/)\n",
    "\n",
    "----------------------\n"
   ]
  },
  {
   "cell_type": "markdown",
   "metadata": {},
   "source": [
    "__Краткий брифинг:__\n",
    "\n",
    "\n",
    "* __Дедлайн:__ __10.05.20__\n",
    "* Первая домашка затрагивает то, что мы смотрели на первых двух парах.\n",
    "* Тетрадка делится на две части: __рыбёшки (65 баллов) и кит (35 баллов).__\n",
    "* Часть задач нужно решить не только с помощью симуляций, но и вручную.\n",
    "* Ваша команда пытается решить как можно больше задач и присылает их мне.\n",
    "* Если очень хочется, можем устроить после всех дедлайнов серию из пар с разбором домашек. \n",
    "* Свои решения постараюсь выложить после дедлайна.\n",
    "* __WARNING:__ [на страничке курса](https://github.com/FUlyankin/r_probability) есть решение домашек прошлого года. Ими можно пользоваться. Там много полезного и интересного! А ещё не стесняйтесь задавать вопросы :) \n",
    "\n",
    "---------------------------\n",
    "\n",
    "* __Как оформлять домашки:__ \n",
    "    1. Компьютерные домашки оформляем либо в связке R + LaTeX, либо в юпитерских тетрадках (если хочется новых технологий), либо в связке R + Markdown. Все шаблоны для этого есть в репозитории. Пожалуйста не нужно присылать мне просто тупой код с выводами в виде комментариев, написанных через решёточки. Я от этого могу сойти с ума. \n",
    "    2. Ручные решение можно оформлять двумя способами: либо вбивать их в файл вместе с кодом. Благо в Markdown, юпитере и других местах поддерживаются теховские формулу. Либо аккуратно оформляйте их на бумаге и присылайте свёрстанную pdf-ку. Не надо кидать мне фотки по одной. Я от этого тоже сойду с ума. Вариант с вбиванием в основной файл - предпочтительнее. \n",
    "    \n",
    "* На странице курса висит [видео-инструкция по оформлению.](https://yadi.sk/i/Pxp_pByP6Em9-A)\n",
    "\n",
    "---------------------------\n",
    "\n",
    "Ближе к делу. С чего начинается любой скрипт? Правильно! С подгрузки пакетов :) "
   ]
  },
  {
   "cell_type": "code",
   "execution_count": 2,
   "metadata": {
    "ExecuteTime": {
     "end_time": "2020-04-28T18:54:20.637419Z",
     "start_time": "2020-04-28T18:54:20.126Z"
    }
   },
   "outputs": [],
   "source": [
    "library(\"ggplot2\")  # Пакет для красивых графиков \n",
    "library(\"reshape2\")\n",
    "\n",
    "library(\"grid\")     # Пакет для субплотов\n",
    "\n",
    "# Отрегулируем размер картинок, которые будут выдаваться в нашей тетрадке\n",
    "library('repr')\n",
    "options(repr.plot.width=8, repr.plot.height=6)\n",
    "\n",
    "# Внимание! Если вы делаете дз в Rstudio, то вам не нужны пакеты grid, repr и т.п.\n",
    "# Вам нужен только пакет ggplot2! "
   ]
  },
  {
   "cell_type": "markdown",
   "metadata": {},
   "source": [
    "### [2]  Задачка 1\n",
    "\n",
    "Давайте уточним [правило трёх сигм.](https://ru.wikipedia.org/wiki/Среднеквадратическое_отклонение#Правило_трёх_сигм)\n",
    "\n",
    "__Утверждение:__ $99.7\\%$ вероятностной массы случайной величины $X \\sim N(\\mu,\\sigma^2)$ лежит в интервале $\\mu \\pm c \\cdot \\sigma$. Чему равно значение константы $c$? А если речь про 80\\%? "
   ]
  },
  {
   "cell_type": "code",
   "execution_count": 5,
   "metadata": {
    "ExecuteTime": {
     "end_time": "2020-04-26T16:58:20.492778Z",
     "start_time": "2020-04-26T16:58:20.485Z"
    }
   },
   "outputs": [],
   "source": [
    "# step указывавет шаг поиска \n",
    "\n",
    "get_c <- function(mean, sd, step) {\n",
    "    for (c in seq(1, 5, by = step)) {\n",
    "        probability = pnorm(c, mean = mean, sd = sd) - pnorm(-c, mean = mean, sd = sd)\n",
    "        #print(probability)\n",
    "        if (round(probability, 3) == 0.8) {\n",
    "            print(sprintf(\"Для 80%% c = %f, вероятность %g\", c, probability))\n",
    "        } else if (round(probability, 3) == 0.997) {\n",
    "            #print(round(probability, 3) == 0.997)\n",
    "            print(sprintf(\"Для 99.7%% c = %e, вероятность %g\", c, probability))\n",
    "        }\n",
    "    }\n",
    "}"
   ]
  },
  {
   "cell_type": "code",
   "execution_count": 6,
   "metadata": {
    "ExecuteTime": {
     "end_time": "2020-04-26T16:58:20.815652Z",
     "start_time": "2020-04-26T16:58:20.802Z"
    },
    "scrolled": true
   },
   "outputs": [
    {
     "name": "stdout",
     "output_type": "stream",
     "text": [
      "[1] \"Для 99.7% c = 3.000000e+00, вероятность 0.9973\"\n"
     ]
    }
   ],
   "source": [
    "get_c(0, 1, 0.1)"
   ]
  },
  {
   "cell_type": "markdown",
   "metadata": {},
   "source": [
    "### [3] Задачка 2\n",
    "\n",
    "Давайте попробуем проверить несколько свойств математических ожиданий и дисперсий, которые вы доказали на лекциях по теории вероятностей в прошлом семестре. Выберите конкретные случайные величины (любые) и проверьте для них утверждения, перечисленные ниже. \n",
    "\n",
    "__[а]__ Верно ли, что $E(X + Y) = E(X) + E(Y)$? \n",
    "\n",
    "__[б]__ Верно ли, что $E(X \\cdot Y) = E(X) \\cdot E(Y)$?\n",
    "\n",
    "__[в]__ Верно ли, что $Var(X + Y) = Var(X) + Var(Y) + 2 \\cdot Cov(X,Y)$? \n",
    "\n",
    "__[г]__ Верно ли, что $Var(X \\cdot Y) = Var(X) \\cdot Var(Y)$? \n",
    "\n",
    "__[д]__ Верно ли, что если $Cov(X, Y) = 0$, то две случайные величины независимы? Удастся ли проверить это с помощью генераций? "
   ]
  },
  {
   "cell_type": "code",
   "execution_count": 3,
   "metadata": {},
   "outputs": [],
   "source": [
    "### ╰( ͡° ͜ʖ ͡° )つ▬▬ι═══════  немого кода тут"
   ]
  },
  {
   "cell_type": "markdown",
   "metadata": {},
   "source": [
    "### [10]  Задачка 3\n",
    "\n",
    "Таня сидит дома на самоизоляции уже третий месяц. Интернет отключили. Ей скучно. Она достала. из ящика $5$ лампочек, вкрутила их в люстру, поставила посреди комнаты стул и стала ждать когда первая лампочка перегорит. Время работы лампочек $T$ имеет экспоненциальное распределение с параметром $\\lambda = 5$ минут.\n",
    "\n",
    "-  Какова вероятность того, что первая лапочка проработает больше $10$ минут? "
   ]
  },
  {
   "cell_type": "code",
   "execution_count": 17,
   "metadata": {
    "ExecuteTime": {
     "end_time": "2020-04-26T17:49:18.908128Z",
     "start_time": "2020-04-26T17:49:18.895Z"
    }
   },
   "outputs": [
    {
     "data": {
      "text/html": [
       "0.864664716763387"
      ],
      "text/latex": [
       "0.864664716763387"
      ],
      "text/markdown": [
       "0.864664716763387"
      ],
      "text/plain": [
       "[1] 0.8646647"
      ]
     },
     "metadata": {},
     "output_type": "display_data"
    }
   ],
   "source": [
    "# Для одной лампочки\n",
    "pexp(10, rate = 1/5)"
   ]
  },
  {
   "cell_type": "markdown",
   "metadata": {},
   "source": [
    "-  Чему равен для первой лампочки $95\\%$ квантиль? Как проинтерпретировать это число? \n",
    "\n",
    "__Ответ:__ _ваша интерпретация квантиля_ "
   ]
  },
  {
   "cell_type": "code",
   "execution_count": 97,
   "metadata": {
    "ExecuteTime": {
     "end_time": "2020-04-20T20:10:55.293680Z",
     "start_time": "2020-04-20T20:10:55.285Z"
    }
   },
   "outputs": [
    {
     "data": {
      "text/html": [
       "0.599146454710798"
      ],
      "text/latex": [
       "0.599146454710798"
      ],
      "text/markdown": [
       "0.599146454710798"
      ],
      "text/plain": [
       "[1] 0.5991465"
      ]
     },
     "metadata": {},
     "output_type": "display_data"
    }
   ],
   "source": [
    "qexp(.95, rate=5)\n",
    "### ╰( ͡° ͜ʖ ͡° )つ▬▬ι═══════  немого кода сям"
   ]
  },
  {
   "cell_type": "markdown",
   "metadata": {},
   "source": [
    "Пусть случайная велчина $X = \\min(T_1, \\ldots, T_5)$ - время до перегорания первой лампочки. Оцените: \n",
    "\n",
    "- $P(X > 10)$\n",
    "- $P(X > 10 \\mid T_1 > 5)$\n",
    "- $E(X)$\n",
    "- $E(X \\mid T_1 > 5)$"
   ]
  },
  {
   "cell_type": "code",
   "execution_count": 6,
   "metadata": {},
   "outputs": [],
   "source": [
    "### ╰( ͡° ͜ʖ ͡° )つ▬▬ι═══════  немого кода пам"
   ]
  },
  {
   "cell_type": "markdown",
   "metadata": {},
   "source": [
    "Пусть случайная величина $Y = \\max(T_1, \\ldots, T_5)$ - время до перегорания последней лампочки. Оцените \n",
    "\n",
    "- $E(Y - X)$\n",
    "- $P(Y > 2 X)$ \n",
    "- $Cov(X,Y)$,\n",
    "- $Var(X), Var(Y)$, какая из дисперсий больше, почему?"
   ]
  },
  {
   "cell_type": "code",
   "execution_count": 7,
   "metadata": {},
   "outputs": [],
   "source": [
    "### ╰( ͡° ͜ʖ ͡° )つ▬▬ι═══════  немого шкода"
   ]
  },
  {
   "cell_type": "markdown",
   "metadata": {},
   "source": [
    "__[бонусные 20 баллов]__\n",
    "\n",
    "Попробуйте руками на бумажке выяснить какое распределение будет у случайных велчин $X$ и $Y$. \n",
    "\n",
    "- Найдите их плотности распрееления.\n",
    "- Представим, что у нас $n$ лампочек. Как плотности распределения зависят от $n$?\n",
    "- Найдите $E(X - Y)$. Куда оно стремится при $n \\to \\infty$?\n",
    "- Если это возможно, найдите совместную плотность распределения $f(x, y)$\n",
    "- Найдите $Cov(X, Y)$. Как она зависит от $n$? Куда она сходится при $n \\to \\infty$?\n",
    "\n",
    "__Решение:__ "
   ]
  },
  {
   "cell_type": "code",
   "execution_count": 8,
   "metadata": {},
   "outputs": [],
   "source": [
    "### решение на бумажке"
   ]
  },
  {
   "cell_type": "markdown",
   "metadata": {},
   "source": [
    "### [5]  Задачка 4\n",
    "\n",
    "Продавщица баба Зина сидит в магазине. Повсюду самоизоляция. Единственное место куда можно сходить погулять - её магазин. Бабе Зине весело. \n",
    "\n",
    "Время между приходами людей в магазин распределено экспоненциально. В среднем за $10$ минут приходит $5$ покупателей. Время обслуживания тоже имеет экспоненциальное распределение. В среднем за $10$ минут баба Зина может обслужить $6$ человек. \n",
    "\n",
    "- Какова вероятность того, что в очереди стоит ровно $5$ человек? \n",
    "- Какова средняя длина очереди? \n",
    "- Постройте для длины очереди гистограмму. Как думаете какое у неё распределение?"
   ]
  },
  {
   "cell_type": "code",
   "execution_count": 9,
   "metadata": {},
   "outputs": [],
   "source": [
    "### ╰( ͡° ͜ʖ ͡° )つ▬▬ι═══════  ещё код"
   ]
  },
  {
   "cell_type": "markdown",
   "metadata": {},
   "source": [
    "В магазин на работу вышла тётя Маша. Она обслуживает в среднем $7$ покупателей за $10$ минут. Два клиента подошли к кассам одновременно. Какова вероятность того, что тётя Зина обслужит клиента быстрее? "
   ]
  },
  {
   "cell_type": "code",
   "execution_count": 10,
   "metadata": {},
   "outputs": [],
   "source": [
    "### ╰( ͡° ͜ʖ ͡° )つ▬▬ι═══════  снова код"
   ]
  },
  {
   "cell_type": "markdown",
   "metadata": {},
   "source": [
    "### [5]  Задачка 5\n",
    "\n",
    "Пока мир сидит на самоизоляции, технологические компании [тестируют свои беспилотные машины и поезда.](https://www.rbc.ru/technology_and_media/03/04/2020/5e871ecf9a794784dd22f1de)\n",
    "\n",
    "Прямо сейчас от станции Ромашково друг за другом в одном направлении отходит $100$ паровозиков с интервалом в одну минуту. Стартовые скорости паравозиков - независимые, равномерные на отрезке $[0;1]$ случайные величины. Когда более быстрый паровозик догоняет более медленный, они снижает свою скорость до скорости догнанного паровозика. \n",
    "\n",
    "Через достаточно длинный интервал времени паровозики разобьются на несколько групп. С помощью симуляций найдитет ответ на следующие вопросы: \n",
    "\n",
    "__[а]__  Какова вероятность того, что пятый паровозик - лидер очередной группы? \n",
    "\n",
    "__[б]__  Пусть $X$ - число групп, на которое разбились паравозики. На сколько групп в среднем разбиваются паравозики?\n",
    "\n",
    "__[в]__  Чему равна дисперсия количества групп?\n",
    "\n",
    "__[г]__  Пусть случайная величина $T$ - время, в течение которого праовозики разбиваются на несколько групп. Оцените $E(T)$ и $Var(T)$. \n",
    "\n",
    "__[д]__ Оцените $Cov(X, T)$."
   ]
  },
  {
   "cell_type": "code",
   "execution_count": 11,
   "metadata": {},
   "outputs": [],
   "source": [
    "### ╰( ͡° ͜ʖ ͡° )つ▬▬ι═══════  снова код"
   ]
  },
  {
   "cell_type": "markdown",
   "metadata": {},
   "source": [
    "__[бонусные 10 баллов]__ найдите решение пунктов __а, б, в__ руками на бумажке. (это задачка номер 78 из [культурного кода.](https://github.com/bdemeshev/probability_dna/blob/master/probability_dna.pdf)"
   ]
  },
  {
   "cell_type": "code",
   "execution_count": 12,
   "metadata": {},
   "outputs": [],
   "source": [
    "### решение на бумажке"
   ]
  },
  {
   "cell_type": "markdown",
   "metadata": {},
   "source": [
    "### [5]  Задачка 6\n",
    "\n",
    "Денис тоже сидит в самоизоляции. Он берёт карты из хорошо перемешанной колоды с $36$ картами до тех пор, пока не возьмёт даму пик. Сколько в среднем бубновых карт он получит? "
   ]
  },
  {
   "cell_type": "code",
   "execution_count": 13,
   "metadata": {},
   "outputs": [],
   "source": [
    "### ╰( ͡° ͜ʖ ͡° )つ▬▬ι═══════  снова код"
   ]
  },
  {
   "cell_type": "markdown",
   "metadata": {},
   "source": [
    "Пусть каждая карта приносит Денису деньги согласно достоинству: шестёрка - $6$ рублей, $\\ldots$, десятка - $10$ рублей, валет - $11$ рублей, дама - $12$ рублей, король - $13$ рублей, туз - $14$ рублей. \n",
    "\n",
    "Какова вероятность того, что Денис наберёт меньше $100$ рублей? "
   ]
  },
  {
   "cell_type": "code",
   "execution_count": 14,
   "metadata": {},
   "outputs": [],
   "source": [
    "### ╰( ͡° ͜ʖ ͡° )つ▬▬ι═══════  снова код"
   ]
  },
  {
   "cell_type": "markdown",
   "metadata": {},
   "source": [
    "### [10]  Задачка 7 (основано на реальных событиях) \n",
    "\n",
    "Филиппу $12$ лет, он играет в покер против своего брата Максима и его плюшевой обезьянки. Игра идёт в обычный покер без джокеров, колодой из $52$ карт, где всем игрокам сдаётся по $5$ карт на руки. \n",
    "\n",
    "С помощью симуляций расчитайте вероятности комбинаций: \n",
    "\n",
    "- Pair (пара) - две карты одного достоинства, три остальные - разного\n",
    "- Two pairs (две пары)\n",
    "- Three of kind (тройка) \n",
    "- Straight (стрит) - пять последовательных карт, есть карты разных мастей\n",
    "- Flush (флэш) - все карты одной масти, но не последовательных достоинств\n",
    "- Full House (фул-хаус) - три карты одного достоинства и две другого\n",
    "- Four of Kind (каре) - четыре карты одного достоинства\n",
    "- Straight Flush (стрит-флэш) - пять последовательных карт одной масти\n",
    "- Royal Flush (роял-флэш) - старшие пять последовательных карт одной масти \n",
    "\n"
   ]
  },
  {
   "cell_type": "markdown",
   "metadata": {},
   "source": [
    "#### Подключаем либу с картами"
   ]
  },
  {
   "cell_type": "code",
   "execution_count": 8,
   "metadata": {
    "ExecuteTime": {
     "end_time": "2020-04-26T17:08:35.041045Z",
     "start_time": "2020-04-26T17:08:35.033Z"
    },
    "scrolled": true
   },
   "outputs": [],
   "source": [
    "#install.packages('prob')\n",
    "library('prob')"
   ]
  },
  {
   "cell_type": "markdown",
   "metadata": {},
   "source": [
    "#### Генерируем колоду из 52 карт"
   ]
  },
  {
   "cell_type": "code",
   "execution_count": 9,
   "metadata": {
    "ExecuteTime": {
     "end_time": "2020-04-26T17:08:38.935513Z",
     "start_time": "2020-04-26T17:08:38.901Z"
    },
    "scrolled": true
   },
   "outputs": [
    {
     "data": {
      "text/html": [
       "<style>\n",
       ".list-inline {list-style: none; margin:0; padding: 0}\n",
       ".list-inline>li {display: inline-block}\n",
       ".list-inline>li:not(:last-child)::after {content: \"\\00b7\"; padding: 0 .5ex}\n",
       "</style>\n",
       "<ol class=list-inline><li>2</li><li>3</li><li>4</li><li>5</li><li>6</li><li>7</li><li>8</li><li>9</li><li>10</li><li>11</li><li>12</li><li>13</li><li>14</li><li>2</li><li>3</li><li>4</li><li>5</li><li>6</li><li>7</li><li>8</li><li>9</li><li>10</li><li>11</li><li>12</li><li>13</li><li>14</li><li>2</li><li>3</li><li>4</li><li>5</li><li>6</li><li>7</li><li>8</li><li>9</li><li>10</li><li>11</li><li>12</li><li>13</li><li>14</li><li>2</li><li>3</li><li>4</li><li>5</li><li>6</li><li>7</li><li>8</li><li>9</li><li>10</li><li>11</li><li>12</li><li>13</li><li>14</li></ol>\n",
       "\n",
       "<details>\n",
       "\t<summary style=display:list-item;cursor:pointer>\n",
       "\t\t<strong>Levels</strong>:\n",
       "\t</summary>\n",
       "\t<style>\n",
       "\t.list-inline {list-style: none; margin:0; padding: 0}\n",
       "\t.list-inline>li {display: inline-block}\n",
       "\t.list-inline>li:not(:last-child)::after {content: \"\\00b7\"; padding: 0 .5ex}\n",
       "\t</style>\n",
       "\t<ol class=list-inline><li>'2'</li><li>'3'</li><li>'4'</li><li>'5'</li><li>'6'</li><li>'7'</li><li>'8'</li><li>'9'</li><li>'10'</li><li>'J'</li><li>'Q'</li><li>'K'</li><li>'A'</li><li>'11'</li><li>'12'</li><li>'13'</li><li>'14'</li></ol>\n",
       "</details>"
      ],
      "text/latex": [
       "\\begin{enumerate*}\n",
       "\\item 2\n",
       "\\item 3\n",
       "\\item 4\n",
       "\\item 5\n",
       "\\item 6\n",
       "\\item 7\n",
       "\\item 8\n",
       "\\item 9\n",
       "\\item 10\n",
       "\\item 11\n",
       "\\item 12\n",
       "\\item 13\n",
       "\\item 14\n",
       "\\item 2\n",
       "\\item 3\n",
       "\\item 4\n",
       "\\item 5\n",
       "\\item 6\n",
       "\\item 7\n",
       "\\item 8\n",
       "\\item 9\n",
       "\\item 10\n",
       "\\item 11\n",
       "\\item 12\n",
       "\\item 13\n",
       "\\item 14\n",
       "\\item 2\n",
       "\\item 3\n",
       "\\item 4\n",
       "\\item 5\n",
       "\\item 6\n",
       "\\item 7\n",
       "\\item 8\n",
       "\\item 9\n",
       "\\item 10\n",
       "\\item 11\n",
       "\\item 12\n",
       "\\item 13\n",
       "\\item 14\n",
       "\\item 2\n",
       "\\item 3\n",
       "\\item 4\n",
       "\\item 5\n",
       "\\item 6\n",
       "\\item 7\n",
       "\\item 8\n",
       "\\item 9\n",
       "\\item 10\n",
       "\\item 11\n",
       "\\item 12\n",
       "\\item 13\n",
       "\\item 14\n",
       "\\end{enumerate*}\n",
       "\n",
       "\\emph{Levels}: \\begin{enumerate*}\n",
       "\\item '2'\n",
       "\\item '3'\n",
       "\\item '4'\n",
       "\\item '5'\n",
       "\\item '6'\n",
       "\\item '7'\n",
       "\\item '8'\n",
       "\\item '9'\n",
       "\\item '10'\n",
       "\\item 'J'\n",
       "\\item 'Q'\n",
       "\\item 'K'\n",
       "\\item 'A'\n",
       "\\item '11'\n",
       "\\item '12'\n",
       "\\item '13'\n",
       "\\item '14'\n",
       "\\end{enumerate*}\n"
      ],
      "text/markdown": [
       "1. 2\n",
       "2. 3\n",
       "3. 4\n",
       "4. 5\n",
       "5. 6\n",
       "6. 7\n",
       "7. 8\n",
       "8. 9\n",
       "9. 10\n",
       "10. 11\n",
       "11. 12\n",
       "12. 13\n",
       "13. 14\n",
       "14. 2\n",
       "15. 3\n",
       "16. 4\n",
       "17. 5\n",
       "18. 6\n",
       "19. 7\n",
       "20. 8\n",
       "21. 9\n",
       "22. 10\n",
       "23. 11\n",
       "24. 12\n",
       "25. 13\n",
       "26. 14\n",
       "27. 2\n",
       "28. 3\n",
       "29. 4\n",
       "30. 5\n",
       "31. 6\n",
       "32. 7\n",
       "33. 8\n",
       "34. 9\n",
       "35. 10\n",
       "36. 11\n",
       "37. 12\n",
       "38. 13\n",
       "39. 14\n",
       "40. 2\n",
       "41. 3\n",
       "42. 4\n",
       "43. 5\n",
       "44. 6\n",
       "45. 7\n",
       "46. 8\n",
       "47. 9\n",
       "48. 10\n",
       "49. 11\n",
       "50. 12\n",
       "51. 13\n",
       "52. 14\n",
       "\n",
       "\n",
       "\n",
       "**Levels**: 1. '2'\n",
       "2. '3'\n",
       "3. '4'\n",
       "4. '5'\n",
       "5. '6'\n",
       "6. '7'\n",
       "7. '8'\n",
       "8. '9'\n",
       "9. '10'\n",
       "10. 'J'\n",
       "11. 'Q'\n",
       "12. 'K'\n",
       "13. 'A'\n",
       "14. '11'\n",
       "15. '12'\n",
       "16. '13'\n",
       "17. '14'\n",
       "\n",
       "\n"
      ],
      "text/plain": [
       " [1] 2  3  4  5  6  7  8  9  10 11 12 13 14 2  3  4  5  6  7  8  9  10 11 12 13\n",
       "[26] 14 2  3  4  5  6  7  8  9  10 11 12 13 14 2  3  4  5  6  7  8  9  10 11 12\n",
       "[51] 13 14\n",
       "Levels: 2 3 4 5 6 7 8 9 10 J Q K A 11 12 13 14"
      ]
     },
     "metadata": {},
     "output_type": "display_data"
    },
    {
     "data": {
      "text/html": [
       "<table>\n",
       "<caption>A data.frame: 52 × 2</caption>\n",
       "<thead>\n",
       "\t<tr><th scope=col>rank</th><th scope=col>suit</th></tr>\n",
       "\t<tr><th scope=col>&lt;fct&gt;</th><th scope=col>&lt;fct&gt;</th></tr>\n",
       "</thead>\n",
       "<tbody>\n",
       "\t<tr><td>2 </td><td>Club   </td></tr>\n",
       "\t<tr><td>3 </td><td>Club   </td></tr>\n",
       "\t<tr><td>4 </td><td>Club   </td></tr>\n",
       "\t<tr><td>5 </td><td>Club   </td></tr>\n",
       "\t<tr><td>6 </td><td>Club   </td></tr>\n",
       "\t<tr><td>7 </td><td>Club   </td></tr>\n",
       "\t<tr><td>8 </td><td>Club   </td></tr>\n",
       "\t<tr><td>9 </td><td>Club   </td></tr>\n",
       "\t<tr><td>10</td><td>Club   </td></tr>\n",
       "\t<tr><td>11</td><td>Club   </td></tr>\n",
       "\t<tr><td>12</td><td>Club   </td></tr>\n",
       "\t<tr><td>13</td><td>Club   </td></tr>\n",
       "\t<tr><td>14</td><td>Club   </td></tr>\n",
       "\t<tr><td>2 </td><td>Diamond</td></tr>\n",
       "\t<tr><td>3 </td><td>Diamond</td></tr>\n",
       "\t<tr><td>4 </td><td>Diamond</td></tr>\n",
       "\t<tr><td>5 </td><td>Diamond</td></tr>\n",
       "\t<tr><td>6 </td><td>Diamond</td></tr>\n",
       "\t<tr><td>7 </td><td>Diamond</td></tr>\n",
       "\t<tr><td>8 </td><td>Diamond</td></tr>\n",
       "\t<tr><td>9 </td><td>Diamond</td></tr>\n",
       "\t<tr><td>10</td><td>Diamond</td></tr>\n",
       "\t<tr><td>11</td><td>Diamond</td></tr>\n",
       "\t<tr><td>12</td><td>Diamond</td></tr>\n",
       "\t<tr><td>13</td><td>Diamond</td></tr>\n",
       "\t<tr><td>14</td><td>Diamond</td></tr>\n",
       "\t<tr><td>2 </td><td>Heart  </td></tr>\n",
       "\t<tr><td>3 </td><td>Heart  </td></tr>\n",
       "\t<tr><td>4 </td><td>Heart  </td></tr>\n",
       "\t<tr><td>5 </td><td>Heart  </td></tr>\n",
       "\t<tr><td>6 </td><td>Heart  </td></tr>\n",
       "\t<tr><td>7 </td><td>Heart  </td></tr>\n",
       "\t<tr><td>8 </td><td>Heart  </td></tr>\n",
       "\t<tr><td>9 </td><td>Heart  </td></tr>\n",
       "\t<tr><td>10</td><td>Heart  </td></tr>\n",
       "\t<tr><td>11</td><td>Heart  </td></tr>\n",
       "\t<tr><td>12</td><td>Heart  </td></tr>\n",
       "\t<tr><td>13</td><td>Heart  </td></tr>\n",
       "\t<tr><td>14</td><td>Heart  </td></tr>\n",
       "\t<tr><td>2 </td><td>Spade  </td></tr>\n",
       "\t<tr><td>3 </td><td>Spade  </td></tr>\n",
       "\t<tr><td>4 </td><td>Spade  </td></tr>\n",
       "\t<tr><td>5 </td><td>Spade  </td></tr>\n",
       "\t<tr><td>6 </td><td>Spade  </td></tr>\n",
       "\t<tr><td>7 </td><td>Spade  </td></tr>\n",
       "\t<tr><td>8 </td><td>Spade  </td></tr>\n",
       "\t<tr><td>9 </td><td>Spade  </td></tr>\n",
       "\t<tr><td>10</td><td>Spade  </td></tr>\n",
       "\t<tr><td>11</td><td>Spade  </td></tr>\n",
       "\t<tr><td>12</td><td>Spade  </td></tr>\n",
       "\t<tr><td>13</td><td>Spade  </td></tr>\n",
       "\t<tr><td>14</td><td>Spade  </td></tr>\n",
       "</tbody>\n",
       "</table>\n"
      ],
      "text/latex": [
       "A data.frame: 52 × 2\n",
       "\\begin{tabular}{ll}\n",
       " rank & suit\\\\\n",
       " <fct> & <fct>\\\\\n",
       "\\hline\n",
       "\t 2  & Club   \\\\\n",
       "\t 3  & Club   \\\\\n",
       "\t 4  & Club   \\\\\n",
       "\t 5  & Club   \\\\\n",
       "\t 6  & Club   \\\\\n",
       "\t 7  & Club   \\\\\n",
       "\t 8  & Club   \\\\\n",
       "\t 9  & Club   \\\\\n",
       "\t 10 & Club   \\\\\n",
       "\t 11 & Club   \\\\\n",
       "\t 12 & Club   \\\\\n",
       "\t 13 & Club   \\\\\n",
       "\t 14 & Club   \\\\\n",
       "\t 2  & Diamond\\\\\n",
       "\t 3  & Diamond\\\\\n",
       "\t 4  & Diamond\\\\\n",
       "\t 5  & Diamond\\\\\n",
       "\t 6  & Diamond\\\\\n",
       "\t 7  & Diamond\\\\\n",
       "\t 8  & Diamond\\\\\n",
       "\t 9  & Diamond\\\\\n",
       "\t 10 & Diamond\\\\\n",
       "\t 11 & Diamond\\\\\n",
       "\t 12 & Diamond\\\\\n",
       "\t 13 & Diamond\\\\\n",
       "\t 14 & Diamond\\\\\n",
       "\t 2  & Heart  \\\\\n",
       "\t 3  & Heart  \\\\\n",
       "\t 4  & Heart  \\\\\n",
       "\t 5  & Heart  \\\\\n",
       "\t 6  & Heart  \\\\\n",
       "\t 7  & Heart  \\\\\n",
       "\t 8  & Heart  \\\\\n",
       "\t 9  & Heart  \\\\\n",
       "\t 10 & Heart  \\\\\n",
       "\t 11 & Heart  \\\\\n",
       "\t 12 & Heart  \\\\\n",
       "\t 13 & Heart  \\\\\n",
       "\t 14 & Heart  \\\\\n",
       "\t 2  & Spade  \\\\\n",
       "\t 3  & Spade  \\\\\n",
       "\t 4  & Spade  \\\\\n",
       "\t 5  & Spade  \\\\\n",
       "\t 6  & Spade  \\\\\n",
       "\t 7  & Spade  \\\\\n",
       "\t 8  & Spade  \\\\\n",
       "\t 9  & Spade  \\\\\n",
       "\t 10 & Spade  \\\\\n",
       "\t 11 & Spade  \\\\\n",
       "\t 12 & Spade  \\\\\n",
       "\t 13 & Spade  \\\\\n",
       "\t 14 & Spade  \\\\\n",
       "\\end{tabular}\n"
      ],
      "text/markdown": [
       "\n",
       "A data.frame: 52 × 2\n",
       "\n",
       "| rank &lt;fct&gt; | suit &lt;fct&gt; |\n",
       "|---|---|\n",
       "| 2  | Club    |\n",
       "| 3  | Club    |\n",
       "| 4  | Club    |\n",
       "| 5  | Club    |\n",
       "| 6  | Club    |\n",
       "| 7  | Club    |\n",
       "| 8  | Club    |\n",
       "| 9  | Club    |\n",
       "| 10 | Club    |\n",
       "| 11 | Club    |\n",
       "| 12 | Club    |\n",
       "| 13 | Club    |\n",
       "| 14 | Club    |\n",
       "| 2  | Diamond |\n",
       "| 3  | Diamond |\n",
       "| 4  | Diamond |\n",
       "| 5  | Diamond |\n",
       "| 6  | Diamond |\n",
       "| 7  | Diamond |\n",
       "| 8  | Diamond |\n",
       "| 9  | Diamond |\n",
       "| 10 | Diamond |\n",
       "| 11 | Diamond |\n",
       "| 12 | Diamond |\n",
       "| 13 | Diamond |\n",
       "| 14 | Diamond |\n",
       "| 2  | Heart   |\n",
       "| 3  | Heart   |\n",
       "| 4  | Heart   |\n",
       "| 5  | Heart   |\n",
       "| 6  | Heart   |\n",
       "| 7  | Heart   |\n",
       "| 8  | Heart   |\n",
       "| 9  | Heart   |\n",
       "| 10 | Heart   |\n",
       "| 11 | Heart   |\n",
       "| 12 | Heart   |\n",
       "| 13 | Heart   |\n",
       "| 14 | Heart   |\n",
       "| 2  | Spade   |\n",
       "| 3  | Spade   |\n",
       "| 4  | Spade   |\n",
       "| 5  | Spade   |\n",
       "| 6  | Spade   |\n",
       "| 7  | Spade   |\n",
       "| 8  | Spade   |\n",
       "| 9  | Spade   |\n",
       "| 10 | Spade   |\n",
       "| 11 | Spade   |\n",
       "| 12 | Spade   |\n",
       "| 13 | Spade   |\n",
       "| 14 | Spade   |\n",
       "\n"
      ],
      "text/plain": [
       "   rank suit   \n",
       "1  2    Club   \n",
       "2  3    Club   \n",
       "3  4    Club   \n",
       "4  5    Club   \n",
       "5  6    Club   \n",
       "6  7    Club   \n",
       "7  8    Club   \n",
       "8  9    Club   \n",
       "9  10   Club   \n",
       "10 11   Club   \n",
       "11 12   Club   \n",
       "12 13   Club   \n",
       "13 14   Club   \n",
       "14 2    Diamond\n",
       "15 3    Diamond\n",
       "16 4    Diamond\n",
       "17 5    Diamond\n",
       "18 6    Diamond\n",
       "19 7    Diamond\n",
       "20 8    Diamond\n",
       "21 9    Diamond\n",
       "22 10   Diamond\n",
       "23 11   Diamond\n",
       "24 12   Diamond\n",
       "25 13   Diamond\n",
       "26 14   Diamond\n",
       "27 2    Heart  \n",
       "28 3    Heart  \n",
       "29 4    Heart  \n",
       "30 5    Heart  \n",
       "31 6    Heart  \n",
       "32 7    Heart  \n",
       "33 8    Heart  \n",
       "34 9    Heart  \n",
       "35 10   Heart  \n",
       "36 11   Heart  \n",
       "37 12   Heart  \n",
       "38 13   Heart  \n",
       "39 14   Heart  \n",
       "40 2    Spade  \n",
       "41 3    Spade  \n",
       "42 4    Spade  \n",
       "43 5    Spade  \n",
       "44 6    Spade  \n",
       "45 7    Spade  \n",
       "46 8    Spade  \n",
       "47 9    Spade  \n",
       "48 10   Spade  \n",
       "49 11   Spade  \n",
       "50 12   Spade  \n",
       "51 13   Spade  \n",
       "52 14   Spade  "
      ]
     },
     "metadata": {},
     "output_type": "display_data"
    }
   ],
   "source": [
    "deck <- cards(jokers = FALSE, makespace = FALSE)\n",
    "levels(deck$rank) <- c(levels(deck$rank), 11, 12, 13, 14)\n",
    "\n",
    "# Делаем encoding xd, чтобы легче искать последовательности \n",
    "deck$rank[deck$rank == 'J'] <- 11\n",
    "deck$rank[deck$rank == 'Q'] <- 12\n",
    "deck$rank[deck$rank == 'K'] <- 13\n",
    "deck$rank[deck$rank == 'A'] <- 14\n",
    "deck$rank\n",
    "\n",
    "deck"
   ]
  },
  {
   "cell_type": "markdown",
   "metadata": {},
   "source": [
    "#### Пишем симуляцию случайной раздачи карт \n",
    "> Будем считать, что Филипп сидит слева от дилера, => Максим => обезьянка\\\n",
    "Раздаем по часовой"
   ]
  },
  {
   "cell_type": "code",
   "execution_count": 10,
   "metadata": {
    "ExecuteTime": {
     "end_time": "2020-04-26T17:08:42.438678Z",
     "start_time": "2020-04-26T17:08:42.427Z"
    }
   },
   "outputs": [],
   "source": [
    "# Как запечатанная колода может быть разложена в другом порядке?\n",
    "\n",
    "# Преобразует рандомную раздачу в карту\n",
    "get_cards <- function(game, deck) {\n",
    "    result <- list()\n",
    "    for (player in game) {\n",
    "        df <- data.frame(rank = as.numeric(as.character(deck[[1]][player])),\n",
    "                         suit = as.character(deck[[2]][player]))\n",
    "        result[[length(result) + 1]] <- df\n",
    "        # as.numeric(as.character()) - такой костыль пздц\n",
    "        # In particular, as.numeric applied to a factor is meaningless, \n",
    "        # and may happen by implicit coercion.\n",
    "    }\n",
    "    return(result)\n",
    "}\n",
    "\n",
    "\n",
    "# Генерирует рандомную раздачу\n",
    "dealer <- function() {\n",
    "    philip <- seq(from = 1, to = 15, by = 3)\n",
    "    maxim <- seq(from = 2, to = 15, by = 3)\n",
    "    monkey <- seq(from = 3, to = 15, by = 3)\n",
    "    deck <- 1:52\n",
    "    random_sample <- sample(deck, size = 15)\n",
    "    return(list(random_sample[philip], random_sample[maxim], random_sample[monkey]))\n",
    "}\n",
    "\n",
    "# Проверяем, есть ли последовательность достоинств \n",
    "check_sequence <- function(cards){\n",
    "    cards = sort(cards)\n",
    "    low_straight = c(2, 3, 4, 5, 14)\n",
    "    if(identical(cards, low_straight)){\n",
    "        return(TRUE)\n",
    "    }\n",
    "    return(all(abs(diff(cards)) == 1))\n",
    "}\n"
   ]
  },
  {
   "cell_type": "markdown",
   "metadata": {},
   "source": [
    "#### Одна и две пары"
   ]
  },
  {
   "cell_type": "code",
   "execution_count": 11,
   "metadata": {
    "ExecuteTime": {
     "end_time": "2020-04-26T17:08:44.441684Z",
     "start_time": "2020-04-26T17:08:44.433Z"
    }
   },
   "outputs": [],
   "source": [
    "is_pair <- function(game) {\n",
    "    counter <- list(0, 0, 0, 0, 0, 0, 0, 0, 0)\n",
    "    for (player in game) {\n",
    "        is_sequence <- check_sequence(player$rank)\n",
    "        pair = length(which(table(player$rank) > 2))\n",
    "        trio = length(which(table(player$rank) > 3))\n",
    "        unique_cards = length(unique(player$rank))\n",
    "        is_flash = length(unique(player$suit)) == 1\n",
    "        is_royal = identical(sort(player$rank), c(10, 11, 12, 13, 14))\n",
    "        if (unique_cards == 4) {\n",
    "            # Ищем одну пару\n",
    "            counter[1] <- counter[[1]] + 1  # эхх += \n",
    "        } else if (unique_cards == 3 & (pair == 0)) {\n",
    "            # Ищем две пары Второе условие отсеивает тройки (пример ['K','K','K','A','7'])\n",
    "            counter[2] <- counter[[2]] + 1\n",
    "        } else if (unique_cards == 3 & (pair != 0)) {\n",
    "            # Ищем тройки(да, кода уже много, но не 3 же ф-ции, чтобы 500к лет ждать)\n",
    "            counter[3] <- counter[[3]] + 1\n",
    "        } else if (is_sequence & !is_royal & !is_flash) {\n",
    "            # Ищем стрит \n",
    "            counter[4] <- counter[[4]] + 1\n",
    "        } else if (!is_sequence & is_flash) {\n",
    "            # Ищем флэш(не учитывая роял-флэш и стрит-флэш)\n",
    "            counter[5] <- counter[[5]] + 1\n",
    "        } else if (unique_cards == 2 & trio == 0) {\n",
    "            # Ищем фул-хаус\n",
    "            counter[6] <- counter[[6]] + 1\n",
    "        } else if ((unique_cards == 2) & (trio != 0)) {\n",
    "            # Ищем каре\n",
    "            counter[7] <- counter[[7]] + 1\n",
    "        } else if (is_sequence & is_flash & !is_royal){\n",
    "            # Ищем стрит-флэш\n",
    "            counter[8] <- counter[[8]] + 1\n",
    "        } else if (is_royal & is_flash){\n",
    "            # Ищем роял-стрит\n",
    "            print(player$suit)\n",
    "            print(player$rank)\n",
    "            counter[9] <- counter[[9]] + 1\n",
    "         }\n",
    "    }\n",
    "    return(counter)\n",
    "}"
   ]
  },
  {
   "cell_type": "code",
   "execution_count": 12,
   "metadata": {
    "ExecuteTime": {
     "end_time": "2020-04-26T17:08:46.102051Z",
     "start_time": "2020-04-26T17:08:46.091Z"
    }
   },
   "outputs": [],
   "source": [
    "get_probability <- function(n_games){\n",
    "    results <- list(0, 0, 0, 0, 0, 0, 0, 0, 0)\n",
    "    # Получаем подходящие события\n",
    "    # results[1] - одна пара\n",
    "    # results[2] - две пары\n",
    "    # results[3] - тройка\n",
    "    for (n in 1:n_games){\n",
    "        pairs <- is_pair(get_cards(dealer(), deck = deck))\n",
    "        for (i in 1:length(results)){\n",
    "            results[i] <- results[[i]] + pairs[[i]]\n",
    "        }\n",
    "    }\n",
    "    # Выводим результат\n",
    "    type_of_event <- c('одну пару', 'две пары', 'тройку', 'стрит', 'флэш',\n",
    "                       'фул-хаус', 'каре', 'стрит-флэш', 'роял-флэш')\n",
    "    for(i in 1:length(results)){\n",
    "        probability <- round(results[[i]]/(n_games * 3) * 100, digits = 5)\n",
    "        text <- sprintf(\"Вероятность получить %s ~= %g %%\", type_of_event[i], probability)\n",
    "        print(text)\n",
    "    }\n",
    "    return(results)\n",
    "}"
   ]
  },
  {
   "cell_type": "code",
   "execution_count": 13,
   "metadata": {
    "ExecuteTime": {
     "end_time": "2020-04-26T17:26:04.550616Z",
     "start_time": "2020-04-26T17:08:52.163Z"
    }
   },
   "outputs": [
    {
     "name": "stdout",
     "output_type": "stream",
     "text": [
      "[1] \"Heart\" \"Heart\" \"Heart\" \"Heart\" \"Heart\"\n",
      "[1] 10 11 12 14 13\n",
      "[1] \"Heart\" \"Heart\" \"Heart\" \"Heart\" \"Heart\"\n",
      "[1] 10 12 14 11 13\n",
      "[1] \"Heart\" \"Heart\" \"Heart\" \"Heart\" \"Heart\"\n",
      "[1] 11 12 10 13 14\n",
      "[1] \"Вероятность получить одну пару ~= 42.2356 %\"\n",
      "[1] \"Вероятность получить две пары ~= 4.73005 %\"\n",
      "[1] \"Вероятность получить тройку ~= 2.11258 %\"\n",
      "[1] \"Вероятность получить стрит ~= 0.35314 %\"\n",
      "[1] \"Вероятность получить флэш ~= 0.19777 %\"\n",
      "[1] \"Вероятность получить фул-хаус ~= 0.14714 %\"\n",
      "[1] \"Вероятность получить каре ~= 0.02301 %\"\n",
      "[1] \"Вероятность получить стрит-флэш ~= 0.001 %\"\n",
      "[1] \"Вероятность получить роял-флэш ~= 0.00012 %\"\n"
     ]
    },
    {
     "data": {
      "text/html": [
       "<ol>\n",
       "\t<li>1097685</li>\n",
       "\t<li>122932</li>\n",
       "\t<li>54905</li>\n",
       "\t<li>9178</li>\n",
       "\t<li>5140</li>\n",
       "\t<li>3824</li>\n",
       "\t<li>598</li>\n",
       "\t<li>26</li>\n",
       "\t<li>3</li>\n",
       "</ol>\n"
      ],
      "text/latex": [
       "\\begin{enumerate}\n",
       "\\item 1097685\n",
       "\\item 122932\n",
       "\\item 54905\n",
       "\\item 9178\n",
       "\\item 5140\n",
       "\\item 3824\n",
       "\\item 598\n",
       "\\item 26\n",
       "\\item 3\n",
       "\\end{enumerate}\n"
      ],
      "text/markdown": [
       "1. 1097685\n",
       "2. 122932\n",
       "3. 54905\n",
       "4. 9178\n",
       "5. 5140\n",
       "6. 3824\n",
       "7. 598\n",
       "8. 26\n",
       "9. 3\n",
       "\n",
       "\n"
      ],
      "text/plain": [
       "[[1]]\n",
       "[1] 1097685\n",
       "\n",
       "[[2]]\n",
       "[1] 122932\n",
       "\n",
       "[[3]]\n",
       "[1] 54905\n",
       "\n",
       "[[4]]\n",
       "[1] 9178\n",
       "\n",
       "[[5]]\n",
       "[1] 5140\n",
       "\n",
       "[[6]]\n",
       "[1] 3824\n",
       "\n",
       "[[7]]\n",
       "[1] 598\n",
       "\n",
       "[[8]]\n",
       "[1] 26\n",
       "\n",
       "[[9]]\n",
       "[1] 3\n"
      ]
     },
     "metadata": {},
     "output_type": "display_data"
    }
   ],
   "source": [
    "get_probability(866320)"
   ]
  },
  {
   "cell_type": "markdown",
   "metadata": {},
   "source": [
    "У Филиппа на руках тройка королей. Какова вероятность, что его обыграет плюшевая обезьянка? "
   ]
  },
  {
   "cell_type": "code",
   "execution_count": 16,
   "metadata": {},
   "outputs": [],
   "source": [
    "### ╰( ͡° ͜ʖ ͡° )つ▬▬ι═══════  немого кода здесь"
   ]
  },
  {
   "cell_type": "markdown",
   "metadata": {},
   "source": [
    "__[бонусные 10]__ посчитайте все эти вероятности на бумажке руками"
   ]
  },
  {
   "cell_type": "markdown",
   "metadata": {},
   "source": [
    "### [5]  Задачка 8\n",
    "\n",
    "Коронавирус продолжает выкашивать людей! Мише это в конец надоело, поэтому он заперся в своей комнате в общаге и разработал новый тест на инфекцию. Тест Миши никогда не ошибается. Если человек болен, он моментально это находит. Есть только один нюанс. Тест очень дорого производить, а тестировать придётся всю Россию. \n",
    "\n",
    "Миша довольно находчивый и придумал способ сэкономить. Он предлагает разбить всех людей в России на группы по $k$ человек. Люди из одной группы сдают на анализ свои мазки из носоглотки. Дальше каким-то неведомым образом все эти мазки смешиваются в пробирке и она сдаётся на тест. Если тест выявляет, что в пробирке всё хорошо, все $k$ человек объявляются здоровыми. Если тест говорит, что в пробирке был вирус, все $k$ человек сдают индивидуальные тесты для поиска больных. \n",
    "\n",
    "__[а]__ Будем предполагать, что вероятность того, что человек инфицирован в день теста составляет $p = 0.001$. На какое количество групп нужно разбить людей, чтобы сэкономить как можно больше тестов? Сколько в среднем тестов будет сэкономлено?  Ответьте на этот вопрос с помощью симуляций. Все симуляции проводите в расчёте на $1000$ человек."
   ]
  },
  {
   "cell_type": "code",
   "execution_count": 17,
   "metadata": {},
   "outputs": [],
   "source": [
    "### ╰( ͡° ͜ʖ ͡° )つ──☆  наколдуй немного магии"
   ]
  },
  {
   "cell_type": "markdown",
   "metadata": {},
   "source": [
    "__[б]__ Предположим, что тест Миши всё-таки ошибается. Вероятность того, что он объявит здорового больным равна $0.02$. В обратную сторону ошибки не происходит. Какое значиние $k$ окажется оптимальным в таком случае? "
   ]
  },
  {
   "cell_type": "code",
   "execution_count": 18,
   "metadata": {},
   "outputs": [],
   "source": [
    "### ╰( ͡° ͜ʖ ͡° )つ──☆ и ещё кода"
   ]
  },
  {
   "cell_type": "markdown",
   "metadata": {},
   "source": [
    "__[бонусные 10]__ Попробуйте решить предыдущие два пункта руками для произвольных вероятностей $p$ и $q$. Как именно оптимальное $k$ зависит от этих вероятностей? \n",
    "\n",
    "__Hint:__ При решении уравнения, которое получится после взятия производной от математического ожидания числа проверок, можно воспользоваться разложением в ряд Тэйлора: $(1 - p)^x \\approx 1 - px$. Это можно сделать, если мы предполагаем, что вероятность заболеть $p$ очень маленькая.   "
   ]
  },
  {
   "cell_type": "markdown",
   "metadata": {},
   "source": [
    "### [2]  Задачка 9\n",
    "\n",
    "У Полины есть не только футболка студпассива, но и выборка, которая на $\\frac{8}{10}$ пришла из нормального распределения с параметрами $0$ и $1$. Оставшаяся часть пришла из [распределения парето](http://ugrad.stat.ubc.ca/R/library/rmutil/html/Pareto.html) с параметарми $20$ и $2$. \n",
    "\n",
    "Правда ли, что хвосты такой смеси тяжелее, чем у стандартного нормального распределения? Нарисуйте гистограмму для смеси и плотность для нормального распределения на одной картинке, чтобы увидеть тяжесть хвостов. \n",
    "\n",
    "Кстати, Полина тоже сидит на самоизоляции дома и ей скучно. "
   ]
  },
  {
   "cell_type": "markdown",
   "metadata": {},
   "source": [
    "#### Подключим либу с парето распределением"
   ]
  },
  {
   "cell_type": "code",
   "execution_count": 62,
   "metadata": {
    "ExecuteTime": {
     "end_time": "2020-04-21T18:57:20.095429Z",
     "start_time": "2020-04-21T18:57:16.261Z"
    }
   },
   "outputs": [
    {
     "name": "stderr",
     "output_type": "stream",
     "text": [
      "\n",
      "Attaching package: ‘rmutil’\n",
      "\n",
      "\n",
      "The following objects are masked from ‘package:timeSeries’:\n",
      "\n",
      "    as.data.frame, description\n",
      "\n",
      "\n",
      "The following object is masked from ‘package:stats’:\n",
      "\n",
      "    nobs\n",
      "\n",
      "\n",
      "The following objects are masked from ‘package:base’:\n",
      "\n",
      "    as.data.frame, units\n",
      "\n",
      "\n"
     ]
    }
   ],
   "source": [
    "# install.packages('rmutil')\n",
    "library(\"rmutil\")"
   ]
  },
  {
   "cell_type": "markdown",
   "metadata": {},
   "source": [
    "#### Собираем распределение"
   ]
  },
  {
   "cell_type": "code",
   "execution_count": 69,
   "metadata": {
    "ExecuteTime": {
     "end_time": "2020-04-21T19:01:01.953983Z",
     "start_time": "2020-04-21T19:00:59.044Z"
    }
   },
   "outputs": [],
   "source": [
    "n_obs <- 10^6\n",
    "norm <- rnorm(8/10 * n_obs)\n",
    "# Получается очень странно, если указывать параметры 20, 2\n",
    "# Если указывать 2, 20, то вроде норм\n",
    "pareto <- rpareto(2/10 * n_obs, 2, 20)\n",
    "both <- c(norm, pareto)"
   ]
  },
  {
   "cell_type": "code",
   "execution_count": 70,
   "metadata": {
    "ExecuteTime": {
     "end_time": "2020-04-21T19:01:54.985376Z",
     "start_time": "2020-04-21T19:01:03.199Z"
    }
   },
   "outputs": [
    {
     "name": "stderr",
     "output_type": "stream",
     "text": [
      "`stat_bin()` using `bins = 30`. Pick better value with `binwidth`.\n",
      "\n"
     ]
    },
    {
     "data": {
      "image/png": "[encoded data removed]",
      "text/plain": [
       "plot without title"
      ]
     },
     "metadata": {
      "image/png": {
       "height": 360,
       "width": 480
      },
      "text/plain": {
       "height": 360,
       "width": 480
      }
     },
     "output_type": "display_data"
    }
   ],
   "source": [
    "qplot(pareto)"
   ]
  },
  {
   "cell_type": "markdown",
   "metadata": {},
   "source": [
    "#### Строим график"
   ]
  },
  {
   "cell_type": "code",
   "execution_count": 71,
   "metadata": {
    "ExecuteTime": {
     "end_time": "2020-04-21T19:02:48.541585Z",
     "start_time": "2020-04-21T19:01:04.244Z"
    },
    "scrolled": true
   },
   "outputs": [
    {
     "data": {
      "image/png": "[encoded data removed]",
      "text/plain": [
       "plot without title"
      ]
     },
     "metadata": {
      "image/png": {
       "height": 360,
       "width": 480
      },
      "text/plain": {
       "height": 360,
       "width": 480
      }
     },
     "output_type": "display_data"
    }
   ],
   "source": [
    "# Гистограмма смеси\n",
    "df <- data.frame(sample = both)\n",
    "plot <- ggplot(df, aes(x = sample, binwidth = 1)) + geom_histogram(aes(y = ..density..), \n",
    "    binwidth = 1, color = \"white\", fill = \"royalblue1\", size = 0.1) + stat_function(fun = dnorm, \n",
    "    args = list(mean = 0, sd = 1), color = \"darkred\", size = 1)\n",
    "\n",
    "plot"
   ]
  },
  {
   "cell_type": "markdown",
   "metadata": {},
   "source": [
    "### [3]  Задачка 10\n",
    "\n",
    "Пущай у нас есть стрёмная функция распределения. Например, вот такая: \n",
    "\n",
    "$$\n",
    "F(x) = \\left( \\frac{\\ln x}{\\ln \\theta} \\right)^{\\alpha},  \\quad x \\in [1; \\theta]\n",
    "$$\n",
    "\n",
    "Давайте сгенерим из неё выборку с помощью квантильного преобразования. "
   ]
  },
  {
   "cell_type": "code",
   "execution_count": null,
   "metadata": {},
   "outputs": [],
   "source": []
  },
  {
   "cell_type": "code",
   "execution_count": 20,
   "metadata": {},
   "outputs": [],
   "source": [
    "### ╰( ͡° ͜ʖ ͡° )つ──☆  напиши в меня коооод"
   ]
  },
  {
   "cell_type": "markdown",
   "metadata": {},
   "source": [
    "### [5]  Задачка 11\n",
    "\n",
    "У древнего морского монстра ~~Коронавируса~~ Кракена $8$ ног-щупалец. Если отрубить одно щупальце, то взамен него с вероятностью $0.25$ отрастает новое, с вероятностью $0.25$ отрастает два новых, с вероятностью $0.5$, слава Океану, не вырастает ничего. \n",
    "\n",
    "Против Кракена бьётся сам Капитан! Он наносит точные удары и безупречно умело уворачивается от ударов Кракена. \n",
    "\n",
    "__[а]__ Какова вероятность того, что Капитан победит, отрубив ровно $10$ щупалец? \n",
    "\n",
    "__[б]__ Какова вероятность, что бой Капитана и Кракена продлиться вечно? \n",
    "\n",
    "__[в]__ Сколько щупалец в среднем отрубит Капитан прежде, чем победит? \n",
    "\n",
    "Ответьте на эти вопросы с помощью симуляций.\n",
    "\n",
    "__[бонусные 10]__ А также ручкой на бумаге! Если есть желание научиться решать подобные рекурсивные задачки, можно посмотреть [серию видосов от моего любимого ББ.](https://vimeo.com/showcase/2521777) Смотреть с первого :) \n",
    "\n"
   ]
  },
  {
   "cell_type": "markdown",
   "metadata": {},
   "source": [
    "> Ф-ция возвращает количество ударов, которое сделал капитан, чтобы победить кракена"
   ]
  },
  {
   "cell_type": "code",
   "execution_count": 39,
   "metadata": {
    "ExecuteTime": {
     "end_time": "2020-04-26T18:27:00.811949Z",
     "start_time": "2020-04-26T18:27:00.602Z"
    }
   },
   "outputs": [],
   "source": [
    "battle <- function() {\n",
    "    kraken <- 8\n",
    "    hits <- 0\n",
    "    while (kraken != 0) {\n",
    "        \n",
    "        # Капитан наносит удар\n",
    "        kraken <- kraken - 1\n",
    "        \n",
    "        # Cчитаем число ударов\n",
    "        hits <- hits + 1\n",
    "        \n",
    "        # Предпологаем, что наш рандом пришел из равномерного распределения\n",
    "        event <- runif(1, 0, 1)\n",
    "        if (event <= 0.5) {\n",
    "            \n",
    "        } else if (event > 0.5 & event <= 0.75) {\n",
    "            kraken <- kraken + 1\n",
    "        } else {\n",
    "            kraken <- kraken + 2\n",
    "        }\n",
    "    }\n",
    "    return(hits)\n",
    "}"
   ]
  },
  {
   "cell_type": "code",
   "execution_count": 40,
   "metadata": {
    "ExecuteTime": {
     "end_time": "2020-04-26T18:27:52.095557Z",
     "start_time": "2020-04-26T18:27:01.857Z"
    }
   },
   "outputs": [],
   "source": [
    "n_obs <- 10^6\n",
    "# R очень медленно работает с append, так что заранее резервируеем память под\n",
    "# наблюдения\n",
    "observ <- rep(0, n_obs)\n",
    "\n",
    "for (i in 1:n_obs) {\n",
    "    observ[i] <- battle()\n",
    "}"
   ]
  },
  {
   "cell_type": "code",
   "execution_count": 48,
   "metadata": {
    "ExecuteTime": {
     "end_time": "2020-04-26T18:31:44.988049Z",
     "start_time": "2020-04-26T18:31:44.969Z"
    }
   },
   "outputs": [
    {
     "data": {
      "text/html": [
       "'[а] Капитан победит, отрубив 10 щупальцев, с вероятностью = 0.012684'"
      ],
      "text/latex": [
       "'{[}а{]} Капитан победит, отрубив 10 щупальцев, с вероятностью = 0.012684'"
      ],
      "text/markdown": [
       "'[а] Капитан победит, отрубив 10 щупальцев, с вероятностью = 0.012684'"
      ],
      "text/plain": [
       "[1] \"[а] Капитан победит, отрубив 10 щупальцев, с вероятностью = 0.012684\""
      ]
     },
     "metadata": {},
     "output_type": "display_data"
    },
    {
     "data": {
      "text/html": [
       "'[б] 0, хз как на симуляциях это показать xd'"
      ],
      "text/latex": [
       "'{[}б{]} 0, хз как на симуляциях это показать xd'"
      ],
      "text/markdown": [
       "'[б] 0, хз как на симуляциях это показать xd'"
      ],
      "text/plain": [
       "[1] \"[б] 0, хз как на симуляциях это показать xd\""
      ]
     },
     "metadata": {},
     "output_type": "display_data"
    },
    {
     "data": {
      "text/html": [
       "'[в] Перед победой капитан отрубит ~ 32 щупальца'"
      ],
      "text/latex": [
       "'{[}в{]} Перед победой капитан отрубит \\textasciitilde{} 32 щупальца'"
      ],
      "text/markdown": [
       "'[в] Перед победой капитан отрубит ~ 32 щупальца'"
      ],
      "text/plain": [
       "[1] \"[в] Перед победой капитан отрубит ~ 32 щупальца\""
      ]
     },
     "metadata": {},
     "output_type": "display_data"
    }
   ],
   "source": [
    "ten_hits <- observ[observ == 10]\n",
    "ten_probability <- length(ten_hits)/n_obs\n",
    "\n",
    "sprintf('[а] Капитан победит, отрубив 10 щупальцев, с вероятностью = %g', ten_probability)\n",
    "sprintf('[б] 0, хз как на симуляциях это показать xd')\n",
    "sprintf('[в] Перед победой капитан отрубит ~ %g щупальца', round(mean(observ)))"
   ]
  },
  {
   "cell_type": "markdown",
   "metadata": {},
   "source": [
    "### [5] Задачка 12\n",
    "\n",
    "У распределения Хи-квадрат есть милое свойство. Известно, что если $X_1, \\ldots, X_n \\sim iid~N(0,1)$, тогда имеет место следующая сходимость по веротяности:\n",
    "\n",
    "$$\n",
    "\\frac{\\chi^2_n}{n} = \\frac{X_1^2 + \\ldots + X_n^2}{n} \\to  1\n",
    "$$\n",
    "\n",
    "Продемонстрируйте с помощью симуляций в R, что это именно так. От вас требуется построить ту же картинку, что мы строили при иллюстрации ЗБЧ. Не забудьте построить для нескольких разных $\\varepsilon$ коридоры и убедиться, что последовательность с некоторого момента начинает пробивать их довольно редко."
   ]
  },
  {
   "cell_type": "code",
   "execution_count": 22,
   "metadata": {},
   "outputs": [],
   "source": [
    "### ╰( ͡° ͜ʖ ͡° )つ──☆  наколдуй немного магии"
   ]
  },
  {
   "cell_type": "markdown",
   "metadata": {},
   "source": [
    "Хорошо! Теперь зафиксируйте несколько коридоров также, как мы делали это на паре и пронаблюдайте, как ведут себя вероятности пробить эти коридоры при увеличении $n$."
   ]
  },
  {
   "cell_type": "code",
   "execution_count": 23,
   "metadata": {},
   "outputs": [],
   "source": [
    "### ╰( ͡° ͜ʖ ͡° )つ──☆  наколдуй немного магии"
   ]
  },
  {
   "cell_type": "markdown",
   "metadata": {},
   "source": [
    "Учитывая, что последовательность случайных величин, приведённая выше, сходится к константе, то есть к вырожденному распределению, дисперсия этой последовательности должна сходится к нулю. Продемонстрируйте, что это действительно так. Для этого нужно скопипастить код из второго пункта и немного отредактировать его.  "
   ]
  },
  {
   "cell_type": "code",
   "execution_count": 24,
   "metadata": {},
   "outputs": [],
   "source": [
    "### ╰( ͡° ͜ʖ ͡° )つ──☆  наколдуй немного магии"
   ]
  },
  {
   "cell_type": "markdown",
   "metadata": {},
   "source": [
    "Если вы хорошо разбирались в лекциях по математической статистике, у вас должна была возникнуть в голове аналогия с Достаточным условием Чебышёва. Оно говорит, что если оценка неизвестного параметра является несмещённой, $E(\\hat \\theta) = \\theta$ и дисперсия этой оценки стремится к нулю, $Var(\\hat \\theta) \\to 0$ при $n \\to \\infty$, то эта оценка состоятельна. \n",
    "\n",
    "Попробуйте ещё раз посмотреть на картинку, которую вы получили выше и переосмыслить это условие. Также не помешает немного подумать о состоятельности оценки и вспомнить определение состоятельности. "
   ]
  },
  {
   "cell_type": "code",
   "execution_count": 25,
   "metadata": {},
   "outputs": [],
   "source": [
    "### ╰( ͡° ͜ʖ ͡° )つ──☆  наколдуй немного магии"
   ]
  },
  {
   "cell_type": "markdown",
   "metadata": {},
   "source": [
    "### [5] Задачка 13\n",
    "\n",
    "Ксюша ... сидит на самоизоляции. У неё есть куча книг и интернет, но она всё-равно скучает. Скучает по Василию Павловичу Решетникову и его лекциям по матстату. Ей безумно не хватает его экспрессии и таланта расказсчика. Поэтому, чтобы унять всю свою сердечную боль и пустоту, она читает книги [Черновой](https://github.com/FUlyankin/r_probability/raw/master/books/Хороший%20учебник%20по%20матстату.pdf) и [Лагутина](https://yadi.sk/i/UuWhEn_L4X_Rwg) про матстат. \n",
    "\n",
    "Сегодня тоска окончательно разъела сердце Ксюши. Поэтому она стала генеировровать равномерные случайные величины. \n",
    "\n",
    "- Ксюша взяла независимые случайные величны $X, Y \\sim U[1,2]$. Немного поколдовав она получила случайную величину $Z = \\frac{X}{X + Y}$. С помощью симуляций оцените математическое ожидание этой случайной величины сначала на $10$, потом на $11$, $\\ldots$ , потом на $1000$ наблюдениях. Нарисуйте картинку, на которой будет видно к чему сходится эта оценка. "
   ]
  },
  {
   "cell_type": "code",
   "execution_count": 40,
   "metadata": {
    "ExecuteTime": {
     "end_time": "2020-04-28T19:04:39.423993Z",
     "start_time": "2020-04-28T19:04:39.392Z"
    }
   },
   "outputs": [],
   "source": [
    "set.seed(5)\n",
    "expected_list <- rep(1, 990)\n",
    "i <- 1\n",
    "\n",
    "\n",
    "for (n_obs in 10:1000) {\n",
    "    X <- runif(n_obs, 1, 2)\n",
    "    Y <- runif(n_obs, 1, 2)\n",
    "    Z <- X/(X + Y)\n",
    "    expected_list[i] <- mean(Z)\n",
    "    i <- i + 1\n",
    "}"
   ]
  },
  {
   "cell_type": "code",
   "execution_count": 47,
   "metadata": {
    "ExecuteTime": {
     "end_time": "2020-04-28T19:10:14.631673Z",
     "start_time": "2020-04-28T19:10:14.404Z"
    }
   },
   "outputs": [
    {
     "name": "stderr",
     "output_type": "stream",
     "text": [
      "`geom_smooth()` using method = 'loess' and formula 'y ~ x'\n",
      "\n"
     ]
    },
    {
     "data": {
      "image/png": "[encoded data removed]",
      "text/plain": [
       "plot without title"
      ]
     },
     "metadata": {
      "image/png": {
       "height": 360,
       "width": 480
      },
      "text/plain": {
       "height": 360,
       "width": 480
      }
     },
     "output_type": "display_data"
    }
   ],
   "source": [
    "qplot(x = seq(10, 1000), y = expected_list, geom = \"smooth\")"
   ]
  },
  {
   "cell_type": "markdown",
   "metadata": {},
   "source": [
    "- Тепреь Ксюша взяла независимые случайные величны $X, Y \\sim U[-1,1]$. Постройте для $Z$ по аналогии с предыдущим картинку, на которой будет показано к чему сходится оценка математического ожидания этой случайной величины. Как думаете, почему с этой случайной величиной происходит такая странность?"
   ]
  },
  {
   "cell_type": "code",
   "execution_count": 42,
   "metadata": {
    "ExecuteTime": {
     "end_time": "2020-04-28T19:04:43.888009Z",
     "start_time": "2020-04-28T19:04:43.740Z"
    },
    "scrolled": false
   },
   "outputs": [
    {
     "name": "stderr",
     "output_type": "stream",
     "text": [
      "`geom_smooth()` using method = 'loess' and formula 'y ~ x'\n",
      "\n"
     ]
    },
    {
     "data": {
      "image/png": "[encoded data removed]",
      "text/plain": [
       "plot without title"
      ]
     },
     "metadata": {
      "image/png": {
       "height": 360,
       "width": 480
      },
      "text/plain": {
       "height": 360,
       "width": 480
      }
     },
     "output_type": "display_data"
    }
   ],
   "source": [
    "expected_list <- rep(1, 990)\n",
    "i <- 1\n",
    "\n",
    "\n",
    "for (n_obs in 10:1000) {\n",
    "    X <- runif(n_obs, -1, 1)\n",
    "    Y <- runif(n_obs, -1, 1)\n",
    "    Z <- X/(X + Y)\n",
    "    expected_list[i] <- mean(Z)\n",
    "    i <- i + 1\n",
    "}\n",
    "\n",
    "qplot(x = seq(10, 1000), y = expected_list, geom = \"smooth\")"
   ]
  },
  {
   "cell_type": "markdown",
   "metadata": {},
   "source": [
    "## [35+] Кит-рисёрчер\n",
    "\n",
    "**Добро пожаловать в Кита. Кит — это большая рисёрчерская задача с огромным количеством вопросов. В ките есть как ручные вопросы, так и вопросы для симуляций. За каждый вопрос даётся какое-то количество баллов. В каких-то вопросах требуется решить задачу руками на бумажке. В каких-то вопросах требуется произвести симуляцию в R. Продвинтесь в своём рисёрче над этим китом как можно глубже и срубите куш из баллов.** "
   ]
  },
  {
   "cell_type": "markdown",
   "metadata": {},
   "source": [
    "На Земле есть филиал ада. Расположен он в Москве, утром, в час пик, на кончике лиловой ветки метро. Эта задача про него. "
   ]
  },
  {
   "cell_type": "markdown",
   "metadata": {},
   "source": [
    "Южный кончик лиловой ветки Московского метро состоит из станций: \n",
    "\n",
    "    ж  Пролетарская (впервые есть пересадка, люди выходят)    \n",
    "    п  Волгоградский проспект  \n",
    "    п  Текстильщики   \n",
    "    ж  Кузьминки   \n",
    "    п  Рязянский проспект  \n",
    "    ж  Выхино  \n",
    "    ж  Лермонтвоский проспект   \n",
    "    ж  Жулебино (конечная)\n",
    "\n",
    "\n",
    "Каждое утро на ветке разворачиваются драмматические события:\n",
    "\n",
    "* Поезд едет от станции к станции $5$ минут. Из депо поезда запускают каждые 5 минут. В одном поезде помещается $500$ человек. Вместимость поезда описывается переменной $full$, которая принимает значение от $0$ до $1$ (доля занятых мест).\n",
    "* Рассматривается период работы метро с $6$ часов утра до $15$ часов дня. "
   ]
  },
  {
   "cell_type": "markdown",
   "metadata": {},
   "source": [
    "* Разница во времени пика интенсивности между двумя соседними станциями состовляет $30$ минут. Так, в Жулебино максимальная интенсивность наблюдается в $07:30$, на Лермонтовском проспекте в $08:00$ и так далее.\n",
    "\n",
    "* Все станции делятся на два типа: промышленные и жилые. Пик интенсивности на промышленных станциях в три раза ниже. \n",
    "\n",
    "![](https://raw.githubusercontent.com/FUlyankin/r_probability/master/end_seminars_2020/HW/train_arrive.png)"
   ]
  },
  {
   "cell_type": "code",
   "execution_count": null,
   "metadata": {},
   "outputs": [],
   "source": []
  },
  {
   "cell_type": "code",
   "execution_count": 28,
   "metadata": {},
   "outputs": [],
   "source": [
    "station_name = c('жулебино', 'лермонтовский проспект', 'выхино', 'рязанский проспект', \n",
    "                'кузьминки', 'текстильщики', 'волгоградский проспект', 'пролетарская')\n",
    "\n",
    "station_kind = c('ж', 'ж', 'ж', 'п', 'ж', 'п', 'п', 'ж')"
   ]
  },
  {
   "cell_type": "markdown",
   "metadata": {},
   "source": [
    "Люди прибывают на платформу, чтобы сесть в поезд: \n",
    "\n",
    "* Случайная величина $Z \\sim Poiss(\\lambda)$ - число людей, которое прибыло на платформу в течение минуты. Интенсивность $\\lambda$ зависит от времени и изменяется по функции: "
   ]
  },
  {
   "cell_type": "code",
   "execution_count": 29,
   "metadata": {},
   "outputs": [
    {
     "data": {
      "text/html": [
       "0.248599006677543"
      ],
      "text/latex": [
       "0.248599006677543"
      ],
      "text/markdown": [
       "0.248599006677543"
      ],
      "text/plain": [
       "[1] 0.248599"
      ]
     },
     "metadata": {},
     "output_type": "display_data"
    }
   ],
   "source": [
    "sigmoida = function(x) return(1/(1 + exp(-0.03*x)))\n",
    "f = function(x) return(sigmoida(x)*(1 - sigmoida(x)))\n",
    "f(5)"
   ]
  },
  {
   "cell_type": "code",
   "execution_count": 30,
   "metadata": {},
   "outputs": [
    {
     "data": {
      "image/png": "[encoded data removed]",
      "text/plain": [
       "plot without title"
      ]
     },
     "metadata": {},
     "output_type": "display_data"
    }
   ],
   "source": [
    "x = seq(0,540,0.01)\n",
    "y = 150*f(x - 90)         # для жилых станций множитель 150 (высокий пик)\n",
    "qplot(x, y, geom ='line') # пик на Жулебино в 7:30 (через 90 минут после открытия )"
   ]
  },
  {
   "cell_type": "code",
   "execution_count": 31,
   "metadata": {},
   "outputs": [
    {
     "data": {
      "image/png": "[encoded data removed]",
      "text/plain": [
       "plot without title"
      ]
     },
     "metadata": {},
     "output_type": "display_data"
    }
   ],
   "source": [
    "x = seq(0,540,0.01)\n",
    "y = 50*f(x - 210)         # для промышленных станций множитель 50 (низкий пик)\n",
    "qplot(x, y, geom ='line') # пик на Рязанском проспекте в 9:30 (через 210 минут после открытия)"
   ]
  },
  {
   "cell_type": "markdown",
   "metadata": {},
   "source": [
    "Люди пытаются уехать на работу, но удаётся это далеко не всем:\n",
    "\n",
    "* Каждый человек, который оказался на платформе, пытается зайти в поезд. Случайная величина $X$ принимает значение $1$, если ему это удаётся. Вероятность оказаться в поезде зависит от того насколько он заполнен: \n",
    "\n",
    "$$\n",
    "P(X = 1) = 1 - (full)^k,\n",
    "$$\n",
    "\n",
    "где $full$ - доля, на которую загружен поезд, а $k$ - параметр, отвечающий за решимость людей садиться в него. Так, для Жулебино он равен $0.2$, потому что на очень то хочется заходить в поезд, где не осталось пустых сидений. Лучше подождать новый и присесть. Для Кузьминок он равен $2.6$, потому что поезда приезжают переполненными и люди настроены более решительно. \n",
    "\n",
    "* Будем считать, что люди заходят в поезд по очереди. Сначала первый, потом второй, потом третий и тд. После каждого нового зашедшего человека $full$ меняется и вероятность считается уже с новым значением параметра.\n",
    "\n",
    "\n",
    "![](https://raw.githubusercontent.com/FUlyankin/r_probability/master/end_seminars_2020/HW/fullnes.png)"
   ]
  },
  {
   "cell_type": "markdown",
   "metadata": {},
   "source": [
    "Вам предстоит просимулировать каждую минуту этого прекрасного утра на своём компьютере и ответить на вопросы: \n",
    "\n",
    "__а)__  На какой станции скапливается максимальное число людей? Во сколько это происходит? Постройте картинки с зависимостью числа людей на платформе от времени для каждой станции. Есть ли на этих картинках что-то странное? Как бы вы это объяснили? \n",
    "\n",
    "__б)__  Администрация метро хочет противодействовать проблемам со скапливанием людей. Для этого она придумывает стратегию \"пустой поезд\". Каждый пятый поезд, приезжающий в Кузьминки будет пустым. Он будет проезжать мимо всех станций и забирать людей из Кузьминок. Выберите оптимальное время запуска пустого поезда, руководствуясь результатами из пункта а). Насколько сильно такая стратегия ухудшит состояние всех оставшихся станций? Правда ли, что Кузьминки вздохнут спокойно и разгрузятся? \n",
    "\n",
    "__в)__  Администрация метро решила, что будет считать проблемы, возникающие при загрузке как сумму всех людей на станциях. На какую станцию оптимальнее всего посылать каждый пятый поезд пустым, чтобы минимизировать эту величину? \n",
    "\n",
    "Лучшее решение этой задачи будет направлено в мэрию. И Москва похорошеет ещё пуще прежнего. "
   ]
  },
  {
   "cell_type": "code",
   "execution_count": 32,
   "metadata": {},
   "outputs": [],
   "source": [
    "# Ваш код"
   ]
  },
  {
   "cell_type": "markdown",
   "metadata": {},
   "source": [
    "__ВАЖНО:__ Задача в плане своего условия сформулированна очень громоздко и непонятно. Бонусные баллы можно получить, если придумать как упростить формулировку не потеряв в смысле. Также бонусные баллы можно получить за интересные идеи для симуляций. "
   ]
  },
  {
   "cell_type": "markdown",
   "metadata": {},
   "source": [
    " "
   ]
  }
 ],
 "metadata": {
  "kernelspec": {
   "display_name": "R",
   "language": "R",
   "name": "ir"
  },
  "language_info": {
   "codemirror_mode": "r",
   "file_extension": ".r",
   "mimetype": "text/x-r-source",
   "name": "R",
   "pygments_lexer": "r",
   "version": "4.0.0"
  },
  "varInspector": {
   "cols": {
    "lenName": 16,
    "lenType": 16,
    "lenVar": 40
   },
   "kernels_config": {
    "python": {
     "delete_cmd_postfix": "",
     "delete_cmd_prefix": "del ",
     "library": "var_list.py",
     "varRefreshCmd": "print(var_dic_list())"
    },
    "r": {
     "delete_cmd_postfix": ") ",
     "delete_cmd_prefix": "rm(",
     "library": "var_list.r",
     "varRefreshCmd": "cat(var_dic_list()) "
    }
   },
   "types_to_exclude": [
    "module",
    "function",
    "builtin_function_or_method",
    "instance",
    "_Feature"
   ],
   "window_display": false
  }
 },
 "nbformat": 4,
 "nbformat_minor": 2
}
