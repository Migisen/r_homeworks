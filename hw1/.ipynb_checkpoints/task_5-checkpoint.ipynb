{
 "cells": [
  {
   "cell_type": "markdown",
   "metadata": {},
   "source": [
    "# Решение Задачки №5 "
   ]
  },
  {
   "cell_type": "markdown",
   "metadata": {},
   "source": [
    "> на питоне xd"
   ]
  },
  {
   "cell_type": "markdown",
   "metadata": {},
   "source": [
    "### Подгружаем numpy"
   ]
  },
  {
   "cell_type": "code",
   "execution_count": 1,
   "metadata": {},
   "outputs": [],
   "source": [
    "import numpy as np"
   ]
  },
  {
   "cell_type": "markdown",
   "metadata": {},
   "source": [
    "### Создаем класс для нашего паровозика"
   ]
  },
  {
   "cell_type": "code",
   "execution_count": 2,
   "metadata": {},
   "outputs": [],
   "source": [
    "class Parovozik:\n",
    "    \n",
    "    def __init__(self, departure_time, identity):\n",
    "\n",
    "        # Время отправления паровозика\n",
    "        self.departure_time = departure_time\n",
    "\n",
    "        # Положение паровозика в пространстве\n",
    "        self.speed = np.random.uniform()\n",
    "\n",
    "        # Социальный статус паровозика\n",
    "        self.id = identity  # Для понимания, кто перед нами \n",
    "        self.leader = True\n",
    "        self.overtaking_time = 0  # Время, за которое лидер обгоняет этот паровозик\n"
   ]
  },
  {
   "cell_type": "markdown",
   "metadata": {},
   "source": [
    "> **group_counter ( )** - определяет лидеров, сохраняет их id и чекает, когда последний поезд присоединился к группе <br/>\n",
    "**leaders_id** - список id-шников лидеров<br/>\n",
    "**max_time** - время, когда последний паровозик присоединился к группе(время, потраченное на разбиение)"
   ]
  },
  {
   "cell_type": "code",
   "execution_count": 3,
   "metadata": {},
   "outputs": [],
   "source": [
    "def group_counter(trains):\n",
    "    \n",
    "    leaders = []\n",
    "    max_time = 0\n",
    "    leaders_id = []\n",
    "    \n",
    "    for i, train in enumerate(trains):\n",
    "        if train.leader:\n",
    "            leaders.append(train)\n",
    "            leaders_id.append(train.id)\n",
    "            n = train.id\n",
    "            # Если последующие поезда двигаются быстрее, то они убираются из лидеров\n",
    "            while n != len(trains) - 1 and trains[n + 1].speed > train.speed:\n",
    "                trains[n + 1].leader = False\n",
    "\n",
    "                # Считаем время встреч и сразу ищем max, чтобы оптимально цикл использовать\n",
    "                meet_time = (trains[n + 1].speed * trains[n + 1].departure_time) / (trains[n + 1].speed - train.speed)\n",
    "                trains[n + 1].overtaking_time = meet_time + trains[n + 1].departure_time\n",
    "                if meet_time > max_time:\n",
    "                    max_time = meet_time\n",
    "\n",
    "                n += 1\n",
    "\n",
    "    return [leaders_id, len(leaders_id), max_time]"
   ]
  },
  {
   "cell_type": "markdown",
   "metadata": {},
   "source": [
    "### Пишем симуляцию нашего процесса"
   ]
  },
  {
   "cell_type": "code",
   "execution_count": 4,
   "metadata": {},
   "outputs": [],
   "source": [
    "def train_simulator(runs_number, train_amount):\n",
    "    fifth = 0  # Количество раз, когда 5ый поезд был лидером\n",
    "    times = []  # Список времен за которые образовались группы\n",
    "    groups = []\n",
    "\n",
    "    for run in range(runs_number):\n",
    "        train_station = [Parovozik(departure_time=60 * i, identity=i) for i in range(train_amount)]\n",
    "        result = group_counter(train_station)\n",
    "\n",
    "        # Считаем, если 5ый лидер\n",
    "        if 4 in result[0]:\n",
    "            fifth += 1\n",
    "\n",
    "        # Сохраняем число групп за симуляцию\n",
    "        groups.append(result[1])\n",
    "\n",
    "        # Записываем время разделения на группы\n",
    "        times.append(result[2])\n",
    "\n",
    "    fifth_expected = fifth / runs_number\n",
    "    groups_expected = np.mean(groups)\n",
    "    mean_time = np.mean(times)\n",
    "    time_var = np.var(times)\n",
    "    group_var = np.var(groups)\n",
    "    time_group_cov = np.cov(groups, times)\n",
    "    print(f'[a] Математическое ожидание 5-го как лидера = {fifth_expected}'\n",
    "          f'\\n[б] Математическое ожидание числа групп = {groups_expected}'\n",
    "          f'\\n[в] Дисперсия числа групп = {group_var}'\n",
    "          f'\\n[г.1] Среднее время деления на группы = {mean_time}'\n",
    "          f'\\n[г.2] Дисперсия времени деления на группы = {time_var} '\n",
    "          f'\\n[д] Оценка ковариации групп/времени = \\n{time_group_cov}')\n",
    "\n",
    "    return [fifth_expected, np.mean(times)]"
   ]
  },
  {
   "cell_type": "markdown",
   "metadata": {},
   "source": [
    "### Запускаем"
   ]
  },
  {
   "cell_type": "code",
   "execution_count": 5,
   "metadata": {},
   "outputs": [
    {
     "name": "stdout",
     "output_type": "stream",
     "text": [
      "[a] Математическое ожидание 5-го как лидера = 0.20113\n",
      "[б] Математическое ожидание числа групп = 5.1804\n",
      "[в] Дисперсия числа групп = 3.5438558399999995\n",
      "[г.1] Среднее время деления на группы = 60660.43255606963\n",
      "[г.2] Дисперсия времени деления на группы = 2858408327375.0728 \n",
      "[д] Оценка ковариации групп/времени = \n",
      "[[3.54389128e+00 1.32226302e+04]\n",
      " [1.32226302e+04 2.85843691e+12]]\n"
     ]
    }
   ],
   "source": [
    "test = train_simulator(100000, 100)\n"
   ]
  }
 ],
 "metadata": {
  "kernelspec": {
   "display_name": "Python 3",
   "language": "python",
   "name": "python3"
  },
  "language_info": {
   "codemirror_mode": {
    "name": "ipython",
    "version": 3
   },
   "file_extension": ".py",
   "mimetype": "text/x-python",
   "name": "python",
   "nbconvert_exporter": "python",
   "pygments_lexer": "ipython3",
   "version": "3.8.2"
  },
  "varInspector": {
   "cols": {
    "lenName": 16,
    "lenType": 16,
    "lenVar": 40
   },
   "kernels_config": {
    "python": {
     "delete_cmd_postfix": "",
     "delete_cmd_prefix": "del ",
     "library": "var_list.py",
     "varRefreshCmd": "print(var_dic_list())"
    },
    "r": {
     "delete_cmd_postfix": ") ",
     "delete_cmd_prefix": "rm(",
     "library": "var_list.r",
     "varRefreshCmd": "cat(var_dic_list()) "
    }
   },
   "types_to_exclude": [
    "module",
    "function",
    "builtin_function_or_method",
    "instance",
    "_Feature"
   ],
   "window_display": false
  }
 },
 "nbformat": 4,
 "nbformat_minor": 4
}
